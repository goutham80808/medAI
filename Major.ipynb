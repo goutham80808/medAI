{
  "cells": [
    {
      "cell_type": "markdown",
      "metadata": {
        "colab_type": "text",
        "id": "view-in-github"
      },
      "source": [
        "<a href=\"https://colab.research.google.com/github/darkxdd/Disease-Prediction-and-Drug-Recommendation-Prototype/blob/main/Major.ipynb\" target=\"_parent\"><img src=\"https://colab.research.google.com/assets/colab-badge.svg\" alt=\"Open In Colab\"/></a>"
      ]
    },
    {
      "cell_type": "code",
      "execution_count": 17,
      "metadata": {},
      "outputs": [
        {
          "name": "stdout",
          "output_type": "stream",
          "text": [
            "Requirement already satisfied: kagglehub in c:\\users\\jayap\\appdata\\local\\programs\\python\\python312\\lib\\site-packages (0.3.10)\n",
            "Requirement already satisfied: packaging in c:\\users\\jayap\\appdata\\local\\programs\\python\\python312\\lib\\site-packages (from kagglehub) (24.2)\n",
            "Requirement already satisfied: pyyaml in c:\\users\\jayap\\appdata\\local\\programs\\python\\python312\\lib\\site-packages (from kagglehub) (6.0.2)\n",
            "Requirement already satisfied: requests in c:\\users\\jayap\\appdata\\local\\programs\\python\\python312\\lib\\site-packages (from kagglehub) (2.32.3)\n",
            "Requirement already satisfied: tqdm in c:\\users\\jayap\\appdata\\local\\programs\\python\\python312\\lib\\site-packages (from kagglehub) (4.67.1)\n",
            "Requirement already satisfied: charset-normalizer<4,>=2 in c:\\users\\jayap\\appdata\\local\\programs\\python\\python312\\lib\\site-packages (from requests->kagglehub) (3.4.1)\n",
            "Requirement already satisfied: idna<4,>=2.5 in c:\\users\\jayap\\appdata\\local\\programs\\python\\python312\\lib\\site-packages (from requests->kagglehub) (3.10)\n",
            "Requirement already satisfied: urllib3<3,>=1.21.1 in c:\\users\\jayap\\appdata\\local\\programs\\python\\python312\\lib\\site-packages (from requests->kagglehub) (2.3.0)\n",
            "Requirement already satisfied: certifi>=2017.4.17 in c:\\users\\jayap\\appdata\\local\\programs\\python\\python312\\lib\\site-packages (from requests->kagglehub) (2025.1.31)\n",
            "Requirement already satisfied: colorama in c:\\users\\jayap\\appdata\\local\\programs\\python\\python312\\lib\\site-packages (from tqdm->kagglehub) (0.4.6)\n",
            "Note: you may need to restart the kernel to use updated packages.\n"
          ]
        }
      ],
      "source": [
        "pip install kagglehub"
      ]
    },
    {
      "cell_type": "code",
      "execution_count": 18,
      "metadata": {
        "colab": {
          "base_uri": "https://localhost:8080/"
        },
        "id": "DqtcHUD2ZPdD",
        "outputId": "ab37a046-f5c1-4722-9d91-5f1264eebc68"
      },
      "outputs": [
        {
          "name": "stderr",
          "output_type": "stream",
          "text": [
            "c:\\Users\\jayap\\AppData\\Local\\Programs\\Python\\Python312\\Lib\\site-packages\\tqdm\\auto.py:21: TqdmWarning: IProgress not found. Please update jupyter and ipywidgets. See https://ipywidgets.readthedocs.io/en/stable/user_install.html\n",
            "  from .autonotebook import tqdm as notebook_tqdm\n"
          ]
        },
        {
          "name": "stdout",
          "output_type": "stream",
          "text": [
            "Data source import complete.\n"
          ]
        },
        {
          "name": "stderr",
          "output_type": "stream",
          "text": [
            "'cp' is not recognized as an internal or external command,\n",
            "operable program or batch file.\n"
          ]
        }
      ],
      "source": [
        "# IMPORTANT: RUN THIS CELL IN ORDER TO IMPORT YOUR KAGGLE DATA SOURCES,\n",
        "# THEN FEEL FREE TO DELETE THIS CELL.\n",
        "# NOTE: THIS NOTEBOOK ENVIRONMENT DIFFERS FROM KAGGLE'S PYTHON\n",
        "# ENVIRONMENT SO THERE MAY BE MISSING LIBRARIES USED BY YOUR\n",
        "# NOTEBOOK.\n",
        "import kagglehub\n",
        "jessicali9530_kuc_hackathon_winter_2018_path = kagglehub.dataset_download('jessicali9530/kuc-hackathon-winter-2018')\n",
        "\n",
        "\n",
        "print('Data source import complete.')\n",
        "\n",
        "!cp -r /root/.cache/kagglehub/datasets/jessicali9530/kuc-hackathon-winter-2018/ /content/"
      ]
    },
    {
      "cell_type": "code",
      "execution_count": 19,
      "metadata": {},
      "outputs": [
        {
          "name": "stdout",
          "output_type": "stream",
          "text": [
            "Requirement already satisfied: numpy in c:\\users\\jayap\\appdata\\local\\programs\\python\\python312\\lib\\site-packages (1.26.4)\n",
            "Requirement already satisfied: pandas in c:\\users\\jayap\\appdata\\local\\programs\\python\\python312\\lib\\site-packages (2.2.3)\n",
            "Requirement already satisfied: numpy>=1.26.0 in c:\\users\\jayap\\appdata\\local\\programs\\python\\python312\\lib\\site-packages (from pandas) (1.26.4)\n",
            "Requirement already satisfied: python-dateutil>=2.8.2 in c:\\users\\jayap\\appdata\\local\\programs\\python\\python312\\lib\\site-packages (from pandas) (2.9.0.post0)\n",
            "Requirement already satisfied: pytz>=2020.1 in c:\\users\\jayap\\appdata\\local\\programs\\python\\python312\\lib\\site-packages (from pandas) (2025.2)\n",
            "Requirement already satisfied: tzdata>=2022.7 in c:\\users\\jayap\\appdata\\local\\programs\\python\\python312\\lib\\site-packages (from pandas) (2025.2)\n",
            "Requirement already satisfied: six>=1.5 in c:\\users\\jayap\\appdata\\local\\programs\\python\\python312\\lib\\site-packages (from python-dateutil>=2.8.2->pandas) (1.17.0)\n",
            "Requirement already satisfied: matplotlib in c:\\users\\jayap\\appdata\\local\\programs\\python\\python312\\lib\\site-packages (3.10.1)\n",
            "Requirement already satisfied: seaborn in c:\\users\\jayap\\appdata\\local\\programs\\python\\python312\\lib\\site-packages (0.13.2)\n",
            "Requirement already satisfied: scikit-learn in c:\\users\\jayap\\appdata\\local\\programs\\python\\python312\\lib\\site-packages (1.6.1)\n",
            "Requirement already satisfied: contourpy>=1.0.1 in c:\\users\\jayap\\appdata\\local\\programs\\python\\python312\\lib\\site-packages (from matplotlib) (1.3.1)\n",
            "Requirement already satisfied: cycler>=0.10 in c:\\users\\jayap\\appdata\\local\\programs\\python\\python312\\lib\\site-packages (from matplotlib) (0.12.1)\n",
            "Requirement already satisfied: fonttools>=4.22.0 in c:\\users\\jayap\\appdata\\local\\programs\\python\\python312\\lib\\site-packages (from matplotlib) (4.56.0)\n",
            "Requirement already satisfied: kiwisolver>=1.3.1 in c:\\users\\jayap\\appdata\\local\\programs\\python\\python312\\lib\\site-packages (from matplotlib) (1.4.8)\n",
            "Requirement already satisfied: numpy>=1.23 in c:\\users\\jayap\\appdata\\local\\programs\\python\\python312\\lib\\site-packages (from matplotlib) (1.26.4)\n",
            "Requirement already satisfied: packaging>=20.0 in c:\\users\\jayap\\appdata\\local\\programs\\python\\python312\\lib\\site-packages (from matplotlib) (24.2)\n",
            "Requirement already satisfied: pillow>=8 in c:\\users\\jayap\\appdata\\local\\programs\\python\\python312\\lib\\site-packages (from matplotlib) (11.1.0)\n",
            "Requirement already satisfied: pyparsing>=2.3.1 in c:\\users\\jayap\\appdata\\local\\programs\\python\\python312\\lib\\site-packages (from matplotlib) (3.2.3)\n",
            "Requirement already satisfied: python-dateutil>=2.7 in c:\\users\\jayap\\appdata\\local\\programs\\python\\python312\\lib\\site-packages (from matplotlib) (2.9.0.post0)\n",
            "Requirement already satisfied: pandas>=1.2 in c:\\users\\jayap\\appdata\\local\\programs\\python\\python312\\lib\\site-packages (from seaborn) (2.2.3)\n",
            "Requirement already satisfied: scipy>=1.6.0 in c:\\users\\jayap\\appdata\\local\\programs\\python\\python312\\lib\\site-packages (from scikit-learn) (1.13.1)\n",
            "Requirement already satisfied: joblib>=1.2.0 in c:\\users\\jayap\\appdata\\local\\programs\\python\\python312\\lib\\site-packages (from scikit-learn) (1.4.2)\n",
            "Requirement already satisfied: threadpoolctl>=3.1.0 in c:\\users\\jayap\\appdata\\local\\programs\\python\\python312\\lib\\site-packages (from scikit-learn) (3.6.0)\n",
            "Requirement already satisfied: pytz>=2020.1 in c:\\users\\jayap\\appdata\\local\\programs\\python\\python312\\lib\\site-packages (from pandas>=1.2->seaborn) (2025.2)\n",
            "Requirement already satisfied: tzdata>=2022.7 in c:\\users\\jayap\\appdata\\local\\programs\\python\\python312\\lib\\site-packages (from pandas>=1.2->seaborn) (2025.2)\n",
            "Requirement already satisfied: six>=1.5 in c:\\users\\jayap\\appdata\\local\\programs\\python\\python312\\lib\\site-packages (from python-dateutil>=2.7->matplotlib) (1.17.0)\n"
          ]
        }
      ],
      "source": [
        "!pip install numpy\n",
        "!pip install pandas\n",
        "!pip install matplotlib seaborn scikit-learn"
      ]
    },
    {
      "cell_type": "code",
      "execution_count": 20,
      "metadata": {},
      "outputs": [
        {
          "name": "stdout",
          "output_type": "stream",
          "text": [
            "Pandas version: 2.2.3\n",
            "NumPy version: 1.26.4\n"
          ]
        }
      ],
      "source": [
        "import pandas as pd\n",
        "import numpy as np\n",
        "\n",
        "print(\"Pandas version:\", pd.__version__)\n",
        "print(\"NumPy version:\", np.__version__)\n"
      ]
    },
    {
      "cell_type": "code",
      "execution_count": 21,
      "metadata": {
        "execution": {
          "iopub.execute_input": "2025-01-17T18:48:12.208559Z",
          "iopub.status.busy": "2025-01-17T18:48:12.208216Z",
          "iopub.status.idle": "2025-01-17T18:48:12.213235Z",
          "shell.execute_reply": "2025-01-17T18:48:12.211999Z",
          "shell.execute_reply.started": "2025-01-17T18:48:12.208531Z"
        },
        "id": "AjGbApQiZPdE",
        "trusted": true
      },
      "outputs": [],
      "source": [
        "# Import basic libraries\n",
        "import pandas as pd\n",
        "import numpy as np\n",
        "import matplotlib.pyplot as plt\n",
        "import seaborn as sns\n",
        "from sklearn.model_selection import train_test_split"
      ]
    },
    {
      "cell_type": "code",
      "execution_count": 22,
      "metadata": {
        "execution": {
          "iopub.execute_input": "2025-01-17T18:48:13.387491Z",
          "iopub.status.busy": "2025-01-17T18:48:13.387187Z",
          "iopub.status.idle": "2025-01-17T18:48:14.732041Z",
          "shell.execute_reply": "2025-01-17T18:48:14.731283Z",
          "shell.execute_reply.started": "2025-01-17T18:48:13.387468Z"
        },
        "id": "tNyGCvjIZPdE",
        "trusted": true
      },
      "outputs": [],
      "source": [
        "# Let's see the input\n",
        "data1 = pd.read_csv(\"drugsComTrain_raw.csv\")\n",
        "data2 = pd.read_csv(\"drugsComTest_raw.csv\")"
      ]
    },
    {
      "cell_type": "code",
      "execution_count": 23,
      "metadata": {
        "colab": {
          "base_uri": "https://localhost:8080/",
          "height": 293
        },
        "execution": {
          "iopub.execute_input": "2025-01-17T18:48:16.121987Z",
          "iopub.status.busy": "2025-01-17T18:48:16.121482Z",
          "iopub.status.idle": "2025-01-17T18:48:16.148879Z",
          "shell.execute_reply": "2025-01-17T18:48:16.147972Z",
          "shell.execute_reply.started": "2025-01-17T18:48:16.121915Z"
        },
        "id": "BkpI_BLaZPdE",
        "outputId": "9f4b6642-b232-462c-f078-f0b6d67a2556",
        "trusted": true
      },
      "outputs": [
        {
          "data": {
            "text/html": [
              "<div>\n",
              "<style scoped>\n",
              "    .dataframe tbody tr th:only-of-type {\n",
              "        vertical-align: middle;\n",
              "    }\n",
              "\n",
              "    .dataframe tbody tr th {\n",
              "        vertical-align: top;\n",
              "    }\n",
              "\n",
              "    .dataframe thead th {\n",
              "        text-align: right;\n",
              "    }\n",
              "</style>\n",
              "<table border=\"1\" class=\"dataframe\">\n",
              "  <thead>\n",
              "    <tr style=\"text-align: right;\">\n",
              "      <th></th>\n",
              "      <th>uniqueID</th>\n",
              "      <th>drugName</th>\n",
              "      <th>condition</th>\n",
              "      <th>review</th>\n",
              "      <th>rating</th>\n",
              "      <th>date</th>\n",
              "      <th>usefulCount</th>\n",
              "    </tr>\n",
              "  </thead>\n",
              "  <tbody>\n",
              "    <tr>\n",
              "      <th>0</th>\n",
              "      <td>206461</td>\n",
              "      <td>Valsartan</td>\n",
              "      <td>Left Ventricular Dysfunction</td>\n",
              "      <td>\"It has no side effect, I take it in combinati...</td>\n",
              "      <td>9</td>\n",
              "      <td>20-May-12</td>\n",
              "      <td>27</td>\n",
              "    </tr>\n",
              "    <tr>\n",
              "      <th>1</th>\n",
              "      <td>95260</td>\n",
              "      <td>Guanfacine</td>\n",
              "      <td>ADHD</td>\n",
              "      <td>\"My son is halfway through his fourth week of ...</td>\n",
              "      <td>8</td>\n",
              "      <td>27-Apr-10</td>\n",
              "      <td>192</td>\n",
              "    </tr>\n",
              "    <tr>\n",
              "      <th>2</th>\n",
              "      <td>92703</td>\n",
              "      <td>Lybrel</td>\n",
              "      <td>Birth Control</td>\n",
              "      <td>\"I used to take another oral contraceptive, wh...</td>\n",
              "      <td>5</td>\n",
              "      <td>14-Dec-09</td>\n",
              "      <td>17</td>\n",
              "    </tr>\n",
              "    <tr>\n",
              "      <th>3</th>\n",
              "      <td>138000</td>\n",
              "      <td>Ortho Evra</td>\n",
              "      <td>Birth Control</td>\n",
              "      <td>\"This is my first time using any form of birth...</td>\n",
              "      <td>8</td>\n",
              "      <td>3-Nov-15</td>\n",
              "      <td>10</td>\n",
              "    </tr>\n",
              "    <tr>\n",
              "      <th>4</th>\n",
              "      <td>35696</td>\n",
              "      <td>Buprenorphine / naloxone</td>\n",
              "      <td>Opiate Dependence</td>\n",
              "      <td>\"Suboxone has completely turned my life around...</td>\n",
              "      <td>9</td>\n",
              "      <td>27-Nov-16</td>\n",
              "      <td>37</td>\n",
              "    </tr>\n",
              "  </tbody>\n",
              "</table>\n",
              "</div>"
            ],
            "text/plain": [
              "   uniqueID                  drugName                     condition  \\\n",
              "0    206461                 Valsartan  Left Ventricular Dysfunction   \n",
              "1     95260                Guanfacine                          ADHD   \n",
              "2     92703                    Lybrel                 Birth Control   \n",
              "3    138000                Ortho Evra                 Birth Control   \n",
              "4     35696  Buprenorphine / naloxone             Opiate Dependence   \n",
              "\n",
              "                                              review  rating       date  \\\n",
              "0  \"It has no side effect, I take it in combinati...       9  20-May-12   \n",
              "1  \"My son is halfway through his fourth week of ...       8  27-Apr-10   \n",
              "2  \"I used to take another oral contraceptive, wh...       5  14-Dec-09   \n",
              "3  \"This is my first time using any form of birth...       8   3-Nov-15   \n",
              "4  \"Suboxone has completely turned my life around...       9  27-Nov-16   \n",
              "\n",
              "   usefulCount  \n",
              "0           27  \n",
              "1          192  \n",
              "2           17  \n",
              "3           10  \n",
              "4           37  "
            ]
          },
          "execution_count": 23,
          "metadata": {},
          "output_type": "execute_result"
        }
      ],
      "source": [
        "data1.head()"
      ]
    },
    {
      "cell_type": "code",
      "execution_count": 24,
      "metadata": {
        "colab": {
          "base_uri": "https://localhost:8080/",
          "height": 293
        },
        "execution": {
          "iopub.execute_input": "2025-01-17T18:48:17.663672Z",
          "iopub.status.busy": "2025-01-17T18:48:17.663367Z",
          "iopub.status.idle": "2025-01-17T18:48:17.674066Z",
          "shell.execute_reply": "2025-01-17T18:48:17.673111Z",
          "shell.execute_reply.started": "2025-01-17T18:48:17.663649Z"
        },
        "id": "g2ugN6U6ZPdF",
        "outputId": "3ddbd3c0-a748-452e-8b9b-52ff86f2bf26",
        "trusted": true
      },
      "outputs": [
        {
          "data": {
            "text/html": [
              "<div>\n",
              "<style scoped>\n",
              "    .dataframe tbody tr th:only-of-type {\n",
              "        vertical-align: middle;\n",
              "    }\n",
              "\n",
              "    .dataframe tbody tr th {\n",
              "        vertical-align: top;\n",
              "    }\n",
              "\n",
              "    .dataframe thead th {\n",
              "        text-align: right;\n",
              "    }\n",
              "</style>\n",
              "<table border=\"1\" class=\"dataframe\">\n",
              "  <thead>\n",
              "    <tr style=\"text-align: right;\">\n",
              "      <th></th>\n",
              "      <th>uniqueID</th>\n",
              "      <th>drugName</th>\n",
              "      <th>condition</th>\n",
              "      <th>review</th>\n",
              "      <th>rating</th>\n",
              "      <th>date</th>\n",
              "      <th>usefulCount</th>\n",
              "    </tr>\n",
              "  </thead>\n",
              "  <tbody>\n",
              "    <tr>\n",
              "      <th>0</th>\n",
              "      <td>163740</td>\n",
              "      <td>Mirtazapine</td>\n",
              "      <td>Depression</td>\n",
              "      <td>\"I&amp;#039;ve tried a few antidepressants over th...</td>\n",
              "      <td>10</td>\n",
              "      <td>28-Feb-12</td>\n",
              "      <td>22</td>\n",
              "    </tr>\n",
              "    <tr>\n",
              "      <th>1</th>\n",
              "      <td>206473</td>\n",
              "      <td>Mesalamine</td>\n",
              "      <td>Crohn's Disease, Maintenance</td>\n",
              "      <td>\"My son has Crohn&amp;#039;s disease and has done ...</td>\n",
              "      <td>8</td>\n",
              "      <td>17-May-09</td>\n",
              "      <td>17</td>\n",
              "    </tr>\n",
              "    <tr>\n",
              "      <th>2</th>\n",
              "      <td>159672</td>\n",
              "      <td>Bactrim</td>\n",
              "      <td>Urinary Tract Infection</td>\n",
              "      <td>\"Quick reduction of symptoms\"</td>\n",
              "      <td>9</td>\n",
              "      <td>29-Sep-17</td>\n",
              "      <td>3</td>\n",
              "    </tr>\n",
              "    <tr>\n",
              "      <th>3</th>\n",
              "      <td>39293</td>\n",
              "      <td>Contrave</td>\n",
              "      <td>Weight Loss</td>\n",
              "      <td>\"Contrave combines drugs that were used for al...</td>\n",
              "      <td>9</td>\n",
              "      <td>5-Mar-17</td>\n",
              "      <td>35</td>\n",
              "    </tr>\n",
              "    <tr>\n",
              "      <th>4</th>\n",
              "      <td>97768</td>\n",
              "      <td>Cyclafem 1 / 35</td>\n",
              "      <td>Birth Control</td>\n",
              "      <td>\"I have been on this birth control for one cyc...</td>\n",
              "      <td>9</td>\n",
              "      <td>22-Oct-15</td>\n",
              "      <td>4</td>\n",
              "    </tr>\n",
              "  </tbody>\n",
              "</table>\n",
              "</div>"
            ],
            "text/plain": [
              "   uniqueID         drugName                     condition  \\\n",
              "0    163740      Mirtazapine                    Depression   \n",
              "1    206473       Mesalamine  Crohn's Disease, Maintenance   \n",
              "2    159672          Bactrim       Urinary Tract Infection   \n",
              "3     39293         Contrave                   Weight Loss   \n",
              "4     97768  Cyclafem 1 / 35                 Birth Control   \n",
              "\n",
              "                                              review  rating       date  \\\n",
              "0  \"I&#039;ve tried a few antidepressants over th...      10  28-Feb-12   \n",
              "1  \"My son has Crohn&#039;s disease and has done ...       8  17-May-09   \n",
              "2                      \"Quick reduction of symptoms\"       9  29-Sep-17   \n",
              "3  \"Contrave combines drugs that were used for al...       9   5-Mar-17   \n",
              "4  \"I have been on this birth control for one cyc...       9  22-Oct-15   \n",
              "\n",
              "   usefulCount  \n",
              "0           22  \n",
              "1           17  \n",
              "2            3  \n",
              "3           35  \n",
              "4            4  "
            ]
          },
          "execution_count": 24,
          "metadata": {},
          "output_type": "execute_result"
        }
      ],
      "source": [
        "data2.head()"
      ]
    },
    {
      "cell_type": "code",
      "execution_count": 25,
      "metadata": {
        "execution": {
          "iopub.execute_input": "2025-01-17T18:48:19.057636Z",
          "iopub.status.busy": "2025-01-17T18:48:19.057333Z",
          "iopub.status.idle": "2025-01-17T18:48:19.061263Z",
          "shell.execute_reply": "2025-01-17T18:48:19.060308Z",
          "shell.execute_reply.started": "2025-01-17T18:48:19.057614Z"
        },
        "id": "f4o02LUKZPdF",
        "trusted": true
      },
      "outputs": [],
      "source": [
        "## So we are basically taking only review and condition so that we can\n",
        "## classify the review for different conditions as part of multi class classification learning"
      ]
    },
    {
      "cell_type": "code",
      "execution_count": 26,
      "metadata": {
        "colab": {
          "base_uri": "https://localhost:8080/",
          "height": 293
        },
        "execution": {
          "iopub.execute_input": "2025-01-17T18:48:23.415867Z",
          "iopub.status.busy": "2025-01-17T18:48:23.415557Z",
          "iopub.status.idle": "2025-01-17T18:48:23.436839Z",
          "shell.execute_reply": "2025-01-17T18:48:23.436059Z",
          "shell.execute_reply.started": "2025-01-17T18:48:23.415844Z"
        },
        "id": "ijkxVkCgZPdF",
        "outputId": "f78ca128-b067-47a0-c580-a0ac0101b9ad",
        "trusted": true
      },
      "outputs": [
        {
          "data": {
            "text/html": [
              "<div>\n",
              "<style scoped>\n",
              "    .dataframe tbody tr th:only-of-type {\n",
              "        vertical-align: middle;\n",
              "    }\n",
              "\n",
              "    .dataframe tbody tr th {\n",
              "        vertical-align: top;\n",
              "    }\n",
              "\n",
              "    .dataframe thead th {\n",
              "        text-align: right;\n",
              "    }\n",
              "</style>\n",
              "<table border=\"1\" class=\"dataframe\">\n",
              "  <thead>\n",
              "    <tr style=\"text-align: right;\">\n",
              "      <th></th>\n",
              "      <th>uniqueID</th>\n",
              "      <th>drugName</th>\n",
              "      <th>condition</th>\n",
              "      <th>review</th>\n",
              "      <th>rating</th>\n",
              "      <th>date</th>\n",
              "      <th>usefulCount</th>\n",
              "    </tr>\n",
              "  </thead>\n",
              "  <tbody>\n",
              "    <tr>\n",
              "      <th>0</th>\n",
              "      <td>206461</td>\n",
              "      <td>Valsartan</td>\n",
              "      <td>Left Ventricular Dysfunction</td>\n",
              "      <td>\"It has no side effect, I take it in combinati...</td>\n",
              "      <td>9</td>\n",
              "      <td>20-May-12</td>\n",
              "      <td>27</td>\n",
              "    </tr>\n",
              "    <tr>\n",
              "      <th>1</th>\n",
              "      <td>95260</td>\n",
              "      <td>Guanfacine</td>\n",
              "      <td>ADHD</td>\n",
              "      <td>\"My son is halfway through his fourth week of ...</td>\n",
              "      <td>8</td>\n",
              "      <td>27-Apr-10</td>\n",
              "      <td>192</td>\n",
              "    </tr>\n",
              "    <tr>\n",
              "      <th>2</th>\n",
              "      <td>92703</td>\n",
              "      <td>Lybrel</td>\n",
              "      <td>Birth Control</td>\n",
              "      <td>\"I used to take another oral contraceptive, wh...</td>\n",
              "      <td>5</td>\n",
              "      <td>14-Dec-09</td>\n",
              "      <td>17</td>\n",
              "    </tr>\n",
              "    <tr>\n",
              "      <th>3</th>\n",
              "      <td>138000</td>\n",
              "      <td>Ortho Evra</td>\n",
              "      <td>Birth Control</td>\n",
              "      <td>\"This is my first time using any form of birth...</td>\n",
              "      <td>8</td>\n",
              "      <td>3-Nov-15</td>\n",
              "      <td>10</td>\n",
              "    </tr>\n",
              "    <tr>\n",
              "      <th>4</th>\n",
              "      <td>35696</td>\n",
              "      <td>Buprenorphine / naloxone</td>\n",
              "      <td>Opiate Dependence</td>\n",
              "      <td>\"Suboxone has completely turned my life around...</td>\n",
              "      <td>9</td>\n",
              "      <td>27-Nov-16</td>\n",
              "      <td>37</td>\n",
              "    </tr>\n",
              "  </tbody>\n",
              "</table>\n",
              "</div>"
            ],
            "text/plain": [
              "   uniqueID                  drugName                     condition  \\\n",
              "0    206461                 Valsartan  Left Ventricular Dysfunction   \n",
              "1     95260                Guanfacine                          ADHD   \n",
              "2     92703                    Lybrel                 Birth Control   \n",
              "3    138000                Ortho Evra                 Birth Control   \n",
              "4     35696  Buprenorphine / naloxone             Opiate Dependence   \n",
              "\n",
              "                                              review  rating       date  \\\n",
              "0  \"It has no side effect, I take it in combinati...       9  20-May-12   \n",
              "1  \"My son is halfway through his fourth week of ...       8  27-Apr-10   \n",
              "2  \"I used to take another oral contraceptive, wh...       5  14-Dec-09   \n",
              "3  \"This is my first time using any form of birth...       8   3-Nov-15   \n",
              "4  \"Suboxone has completely turned my life around...       9  27-Nov-16   \n",
              "\n",
              "   usefulCount  \n",
              "0           27  \n",
              "1          192  \n",
              "2           17  \n",
              "3           10  \n",
              "4           37  "
            ]
          },
          "execution_count": 26,
          "metadata": {},
          "output_type": "execute_result"
        }
      ],
      "source": [
        "data = pd.concat([data1,data2])\n",
        "data.head()"
      ]
    },
    {
      "cell_type": "code",
      "execution_count": 27,
      "metadata": {
        "colab": {
          "base_uri": "https://localhost:8080/"
        },
        "execution": {
          "iopub.execute_input": "2025-01-17T18:48:24.562221Z",
          "iopub.status.busy": "2025-01-17T18:48:24.561848Z",
          "iopub.status.idle": "2025-01-17T18:48:24.567712Z",
          "shell.execute_reply": "2025-01-17T18:48:24.566643Z",
          "shell.execute_reply.started": "2025-01-17T18:48:24.562194Z"
        },
        "id": "Uv2JC3sPZPdF",
        "outputId": "0a16e013-d7fa-4f4e-e25f-e227e337437e",
        "trusted": true
      },
      "outputs": [
        {
          "data": {
            "text/plain": [
              "(215063, 7)"
            ]
          },
          "execution_count": 27,
          "metadata": {},
          "output_type": "execute_result"
        }
      ],
      "source": [
        "data.shape"
      ]
    },
    {
      "cell_type": "code",
      "execution_count": 28,
      "metadata": {
        "colab": {
          "base_uri": "https://localhost:8080/",
          "height": 206
        },
        "execution": {
          "iopub.execute_input": "2025-01-17T18:48:25.723888Z",
          "iopub.status.busy": "2025-01-17T18:48:25.723573Z",
          "iopub.status.idle": "2025-01-17T18:48:25.745914Z",
          "shell.execute_reply": "2025-01-17T18:48:25.745119Z",
          "shell.execute_reply.started": "2025-01-17T18:48:25.723858Z"
        },
        "id": "CHz5RsgeZPdF",
        "outputId": "dcd89f21-0d8f-43a2-87b5-7ff94507460e",
        "trusted": true
      },
      "outputs": [
        {
          "data": {
            "text/html": [
              "<div>\n",
              "<style scoped>\n",
              "    .dataframe tbody tr th:only-of-type {\n",
              "        vertical-align: middle;\n",
              "    }\n",
              "\n",
              "    .dataframe tbody tr th {\n",
              "        vertical-align: top;\n",
              "    }\n",
              "\n",
              "    .dataframe thead th {\n",
              "        text-align: right;\n",
              "    }\n",
              "</style>\n",
              "<table border=\"1\" class=\"dataframe\">\n",
              "  <thead>\n",
              "    <tr style=\"text-align: right;\">\n",
              "      <th></th>\n",
              "      <th>review</th>\n",
              "      <th>condition</th>\n",
              "    </tr>\n",
              "  </thead>\n",
              "  <tbody>\n",
              "    <tr>\n",
              "      <th>0</th>\n",
              "      <td>\"It has no side effect, I take it in combinati...</td>\n",
              "      <td>Left Ventricular Dysfunction</td>\n",
              "    </tr>\n",
              "    <tr>\n",
              "      <th>1</th>\n",
              "      <td>\"My son is halfway through his fourth week of ...</td>\n",
              "      <td>ADHD</td>\n",
              "    </tr>\n",
              "    <tr>\n",
              "      <th>2</th>\n",
              "      <td>\"I used to take another oral contraceptive, wh...</td>\n",
              "      <td>Birth Control</td>\n",
              "    </tr>\n",
              "    <tr>\n",
              "      <th>3</th>\n",
              "      <td>\"This is my first time using any form of birth...</td>\n",
              "      <td>Birth Control</td>\n",
              "    </tr>\n",
              "    <tr>\n",
              "      <th>4</th>\n",
              "      <td>\"Suboxone has completely turned my life around...</td>\n",
              "      <td>Opiate Dependence</td>\n",
              "    </tr>\n",
              "  </tbody>\n",
              "</table>\n",
              "</div>"
            ],
            "text/plain": [
              "                                              review  \\\n",
              "0  \"It has no side effect, I take it in combinati...   \n",
              "1  \"My son is halfway through his fourth week of ...   \n",
              "2  \"I used to take another oral contraceptive, wh...   \n",
              "3  \"This is my first time using any form of birth...   \n",
              "4  \"Suboxone has completely turned my life around...   \n",
              "\n",
              "                      condition  \n",
              "0  Left Ventricular Dysfunction  \n",
              "1                          ADHD  \n",
              "2                 Birth Control  \n",
              "3                 Birth Control  \n",
              "4             Opiate Dependence  "
            ]
          },
          "execution_count": 28,
          "metadata": {},
          "output_type": "execute_result"
        }
      ],
      "source": [
        "data = data[['review','condition']]\n",
        "data.head()"
      ]
    },
    {
      "cell_type": "markdown",
      "metadata": {
        "id": "QT20O1n8ZPdF"
      },
      "source": [
        "## Exploratory Data Analysis"
      ]
    },
    {
      "cell_type": "code",
      "execution_count": 29,
      "metadata": {
        "colab": {
          "base_uri": "https://localhost:8080/",
          "height": 147
        },
        "execution": {
          "iopub.execute_input": "2025-01-17T18:48:30.554246Z",
          "iopub.status.busy": "2025-01-17T18:48:30.553892Z",
          "iopub.status.idle": "2025-01-17T18:48:30.598236Z",
          "shell.execute_reply": "2025-01-17T18:48:30.597258Z",
          "shell.execute_reply.started": "2025-01-17T18:48:30.55422Z"
        },
        "id": "lK2BQyZlZPdG",
        "outputId": "47419102-899a-45e0-fd05-7136de34bff2",
        "trusted": true
      },
      "outputs": [
        {
          "data": {
            "text/plain": [
              "review          0\n",
              "condition    1194\n",
              "dtype: int64"
            ]
          },
          "execution_count": 29,
          "metadata": {},
          "output_type": "execute_result"
        }
      ],
      "source": [
        "data.isnull().sum()"
      ]
    },
    {
      "cell_type": "code",
      "execution_count": 30,
      "metadata": {
        "colab": {
          "base_uri": "https://localhost:8080/"
        },
        "execution": {
          "iopub.execute_input": "2025-01-17T18:48:31.654844Z",
          "iopub.status.busy": "2025-01-17T18:48:31.654515Z",
          "iopub.status.idle": "2025-01-17T18:48:31.659783Z",
          "shell.execute_reply": "2025-01-17T18:48:31.658907Z",
          "shell.execute_reply.started": "2025-01-17T18:48:31.654814Z"
        },
        "id": "6MeTfPvfZPdG",
        "outputId": "5500efe0-7e3c-4d88-9e50-42f601167d98",
        "trusted": true
      },
      "outputs": [
        {
          "data": {
            "text/plain": [
              "(215063, 2)"
            ]
          },
          "execution_count": 30,
          "metadata": {},
          "output_type": "execute_result"
        }
      ],
      "source": [
        "data.shape"
      ]
    },
    {
      "cell_type": "code",
      "execution_count": 31,
      "metadata": {
        "execution": {
          "iopub.execute_input": "2025-01-17T18:48:32.462066Z",
          "iopub.status.busy": "2025-01-17T18:48:32.461694Z",
          "iopub.status.idle": "2025-01-17T18:48:32.513657Z",
          "shell.execute_reply": "2025-01-17T18:48:32.512856Z",
          "shell.execute_reply.started": "2025-01-17T18:48:32.462037Z"
        },
        "id": "1c0IcxyTZPdG",
        "trusted": true
      },
      "outputs": [],
      "source": [
        "# Since the null values are very less, we can remove the values for now.\n",
        "data.dropna(inplace=True)"
      ]
    },
    {
      "cell_type": "code",
      "execution_count": 32,
      "metadata": {
        "colab": {
          "base_uri": "https://localhost:8080/",
          "height": 147
        },
        "execution": {
          "iopub.execute_input": "2025-01-17T18:48:35.422326Z",
          "iopub.status.busy": "2025-01-17T18:48:35.421994Z",
          "iopub.status.idle": "2025-01-17T18:48:35.46427Z",
          "shell.execute_reply": "2025-01-17T18:48:35.463443Z",
          "shell.execute_reply.started": "2025-01-17T18:48:35.422301Z"
        },
        "id": "7YSHeeBEZPdG",
        "outputId": "717cc966-dd27-446a-9652-a9d3cfd70d3d",
        "trusted": true
      },
      "outputs": [
        {
          "data": {
            "text/plain": [
              "review       0\n",
              "condition    0\n",
              "dtype: int64"
            ]
          },
          "execution_count": 32,
          "metadata": {},
          "output_type": "execute_result"
        }
      ],
      "source": [
        "data.isnull().sum()"
      ]
    },
    {
      "cell_type": "code",
      "execution_count": 33,
      "metadata": {
        "colab": {
          "base_uri": "https://localhost:8080/"
        },
        "execution": {
          "iopub.execute_input": "2025-01-17T18:48:35.847846Z",
          "iopub.status.busy": "2025-01-17T18:48:35.847546Z",
          "iopub.status.idle": "2025-01-17T18:48:35.852676Z",
          "shell.execute_reply": "2025-01-17T18:48:35.851923Z",
          "shell.execute_reply.started": "2025-01-17T18:48:35.847823Z"
        },
        "id": "48q0dE4TZPdH",
        "outputId": "60572877-e5a9-4d58-fe91-f91109ac2240",
        "trusted": true
      },
      "outputs": [
        {
          "data": {
            "text/plain": [
              "(213869, 2)"
            ]
          },
          "execution_count": 33,
          "metadata": {},
          "output_type": "execute_result"
        }
      ],
      "source": [
        "data.shape"
      ]
    },
    {
      "cell_type": "code",
      "execution_count": 34,
      "metadata": {
        "colab": {
          "base_uri": "https://localhost:8080/"
        },
        "execution": {
          "iopub.execute_input": "2025-01-17T18:48:36.343632Z",
          "iopub.status.busy": "2025-01-17T18:48:36.34333Z",
          "iopub.status.idle": "2025-01-17T18:48:36.594541Z",
          "shell.execute_reply": "2025-01-17T18:48:36.593774Z",
          "shell.execute_reply.started": "2025-01-17T18:48:36.343609Z"
        },
        "id": "GoRnGMvRZPdH",
        "outputId": "abea2555-6dd0-428d-aa7b-c557c453f8ad",
        "trusted": true
      },
      "outputs": [
        {
          "data": {
            "text/plain": [
              "128449"
            ]
          },
          "execution_count": 34,
          "metadata": {},
          "output_type": "execute_result"
        }
      ],
      "source": [
        "len(data.review.unique())"
      ]
    },
    {
      "cell_type": "code",
      "execution_count": 35,
      "metadata": {
        "colab": {
          "base_uri": "https://localhost:8080/"
        },
        "execution": {
          "iopub.execute_input": "2025-01-17T18:48:36.802145Z",
          "iopub.status.busy": "2025-01-17T18:48:36.801769Z",
          "iopub.status.idle": "2025-01-17T18:48:36.820821Z",
          "shell.execute_reply": "2025-01-17T18:48:36.820016Z",
          "shell.execute_reply.started": "2025-01-17T18:48:36.802113Z"
        },
        "id": "usNeoVqAZPdH",
        "outputId": "e6491669-0641-4ec7-a962-4ec45bc1ef50",
        "trusted": true
      },
      "outputs": [
        {
          "data": {
            "text/plain": [
              "916"
            ]
          },
          "execution_count": 35,
          "metadata": {},
          "output_type": "execute_result"
        }
      ],
      "source": [
        "len(data.condition.unique())"
      ]
    },
    {
      "cell_type": "code",
      "execution_count": 36,
      "metadata": {
        "colab": {
          "base_uri": "https://localhost:8080/",
          "height": 423
        },
        "execution": {
          "iopub.execute_input": "2025-01-17T18:48:37.196329Z",
          "iopub.status.busy": "2025-01-17T18:48:37.196017Z",
          "iopub.status.idle": "2025-01-17T18:48:37.222325Z",
          "shell.execute_reply": "2025-01-17T18:48:37.221425Z",
          "shell.execute_reply.started": "2025-01-17T18:48:37.196306Z"
        },
        "id": "cgeQU_o9ZPdH",
        "outputId": "a6e8caf7-7aae-456d-f38c-5825c0616bc6",
        "trusted": true
      },
      "outputs": [
        {
          "data": {
            "text/html": [
              "<div>\n",
              "<style scoped>\n",
              "    .dataframe tbody tr th:only-of-type {\n",
              "        vertical-align: middle;\n",
              "    }\n",
              "\n",
              "    .dataframe tbody tr th {\n",
              "        vertical-align: top;\n",
              "    }\n",
              "\n",
              "    .dataframe thead th {\n",
              "        text-align: right;\n",
              "    }\n",
              "</style>\n",
              "<table border=\"1\" class=\"dataframe\">\n",
              "  <thead>\n",
              "    <tr style=\"text-align: right;\">\n",
              "      <th></th>\n",
              "      <th>condition</th>\n",
              "      <th>count</th>\n",
              "    </tr>\n",
              "  </thead>\n",
              "  <tbody>\n",
              "    <tr>\n",
              "      <th>0</th>\n",
              "      <td>Birth Control</td>\n",
              "      <td>38436</td>\n",
              "    </tr>\n",
              "    <tr>\n",
              "      <th>1</th>\n",
              "      <td>Depression</td>\n",
              "      <td>12164</td>\n",
              "    </tr>\n",
              "    <tr>\n",
              "      <th>2</th>\n",
              "      <td>Pain</td>\n",
              "      <td>8245</td>\n",
              "    </tr>\n",
              "    <tr>\n",
              "      <th>3</th>\n",
              "      <td>Anxiety</td>\n",
              "      <td>7812</td>\n",
              "    </tr>\n",
              "    <tr>\n",
              "      <th>4</th>\n",
              "      <td>Acne</td>\n",
              "      <td>7435</td>\n",
              "    </tr>\n",
              "    <tr>\n",
              "      <th>...</th>\n",
              "      <td>...</td>\n",
              "      <td>...</td>\n",
              "    </tr>\n",
              "    <tr>\n",
              "      <th>911</th>\n",
              "      <td>Systemic Candidiasis</td>\n",
              "      <td>1</td>\n",
              "    </tr>\n",
              "    <tr>\n",
              "      <th>912</th>\n",
              "      <td>Wilson's Disease</td>\n",
              "      <td>1</td>\n",
              "    </tr>\n",
              "    <tr>\n",
              "      <th>913</th>\n",
              "      <td>unctional Gastric Disorde</td>\n",
              "      <td>1</td>\n",
              "    </tr>\n",
              "    <tr>\n",
              "      <th>914</th>\n",
              "      <td>Sepsis</td>\n",
              "      <td>1</td>\n",
              "    </tr>\n",
              "    <tr>\n",
              "      <th>915</th>\n",
              "      <td>105&lt;/span&gt; users found this comment helpful.</td>\n",
              "      <td>1</td>\n",
              "    </tr>\n",
              "  </tbody>\n",
              "</table>\n",
              "<p>916 rows × 2 columns</p>\n",
              "</div>"
            ],
            "text/plain": [
              "                                        condition  count\n",
              "0                                   Birth Control  38436\n",
              "1                                      Depression  12164\n",
              "2                                            Pain   8245\n",
              "3                                         Anxiety   7812\n",
              "4                                            Acne   7435\n",
              "..                                            ...    ...\n",
              "911                          Systemic Candidiasis      1\n",
              "912                              Wilson's Disease      1\n",
              "913                     unctional Gastric Disorde      1\n",
              "914                                        Sepsis      1\n",
              "915  105</span> users found this comment helpful.      1\n",
              "\n",
              "[916 rows x 2 columns]"
            ]
          },
          "execution_count": 36,
          "metadata": {},
          "output_type": "execute_result"
        }
      ],
      "source": [
        "# We need to convert the label to numeric form, so we need to do preprocessing\n",
        "# We are only going to be classifying conditions for which the count of reviews are more than 3000.\n",
        "\n",
        "review_counts = data.condition.value_counts(ascending=False).reset_index()\n",
        "review_counts"
      ]
    },
    {
      "cell_type": "code",
      "execution_count": 37,
      "metadata": {
        "colab": {
          "base_uri": "https://localhost:8080/"
        },
        "execution": {
          "iopub.execute_input": "2025-01-17T18:49:27.70521Z",
          "iopub.status.busy": "2025-01-17T18:49:27.704859Z",
          "iopub.status.idle": "2025-01-17T18:49:27.7135Z",
          "shell.execute_reply": "2025-01-17T18:49:27.712464Z",
          "shell.execute_reply.started": "2025-01-17T18:49:27.705184Z"
        },
        "id": "2nsnQzu-ZPdH",
        "outputId": "da0351f8-7298-44c5-d075-7b3d02d07842",
        "trusted": true
      },
      "outputs": [
        {
          "data": {
            "text/plain": [
              "['Birth Control',\n",
              " 'Depression',\n",
              " 'Pain',\n",
              " 'Anxiety',\n",
              " 'Acne',\n",
              " 'Bipolar Disorde',\n",
              " 'Insomnia',\n",
              " 'Weight Loss',\n",
              " 'Obesity',\n",
              " 'ADHD',\n",
              " 'Diabetes, Type 2',\n",
              " 'Emergency Contraception',\n",
              " 'High Blood Pressure',\n",
              " 'Vaginal Yeast Infection']"
            ]
          },
          "execution_count": 37,
          "metadata": {},
          "output_type": "execute_result"
        }
      ],
      "source": [
        "valid_conditions = review_counts[review_counts['count']>3000]['condition'].tolist()\n",
        "valid_conditions"
      ]
    },
    {
      "cell_type": "code",
      "execution_count": 38,
      "metadata": {
        "colab": {
          "base_uri": "https://localhost:8080/"
        },
        "execution": {
          "iopub.execute_input": "2025-01-17T18:50:01.897588Z",
          "iopub.status.busy": "2025-01-17T18:50:01.897265Z",
          "iopub.status.idle": "2025-01-17T18:50:01.920874Z",
          "shell.execute_reply": "2025-01-17T18:50:01.919884Z",
          "shell.execute_reply.started": "2025-01-17T18:50:01.897561Z"
        },
        "id": "uuylrSZqZPdH",
        "outputId": "a893894b-594d-45d6-be5c-013db80729c1",
        "trusted": true
      },
      "outputs": [
        {
          "data": {
            "text/plain": [
              "(111564, 2)"
            ]
          },
          "execution_count": 38,
          "metadata": {},
          "output_type": "execute_result"
        }
      ],
      "source": [
        "df = data[data.condition.isin(valid_conditions)]\n",
        "df.shape"
      ]
    },
    {
      "cell_type": "markdown",
      "metadata": {
        "id": "I_e9sjjOZPdH"
      },
      "source": [
        "So, we are left with 111564 rows of data with 14 classes of reviews."
      ]
    },
    {
      "cell_type": "code",
      "execution_count": 39,
      "metadata": {
        "colab": {
          "base_uri": "https://localhost:8080/"
        },
        "execution": {
          "iopub.execute_input": "2025-01-17T18:50:03.56445Z",
          "iopub.status.busy": "2025-01-17T18:50:03.564012Z",
          "iopub.status.idle": "2025-01-17T18:50:03.570757Z",
          "shell.execute_reply": "2025-01-17T18:50:03.569924Z",
          "shell.execute_reply.started": "2025-01-17T18:50:03.564415Z"
        },
        "id": "omRZBCMXZPdI",
        "outputId": "8160fb1f-8733-4036-93b8-8039330ff83e",
        "trusted": true
      },
      "outputs": [
        {
          "data": {
            "text/plain": [
              "['Birth Control',\n",
              " 'Depression',\n",
              " 'Pain',\n",
              " 'Anxiety',\n",
              " 'Acne',\n",
              " 'Bipolar Disorde',\n",
              " 'Insomnia',\n",
              " 'Weight Loss',\n",
              " 'Obesity',\n",
              " 'ADHD',\n",
              " 'Diabetes, Type 2',\n",
              " 'Emergency Contraception',\n",
              " 'High Blood Pressure',\n",
              " 'Vaginal Yeast Infection']"
            ]
          },
          "execution_count": 39,
          "metadata": {},
          "output_type": "execute_result"
        }
      ],
      "source": [
        "# Target Classes/Labels\n",
        "valid_conditions"
      ]
    },
    {
      "cell_type": "code",
      "execution_count": 40,
      "metadata": {
        "colab": {
          "base_uri": "https://localhost:8080/",
          "height": 241
        },
        "execution": {
          "iopub.execute_input": "2025-01-17T18:50:05.503034Z",
          "iopub.status.busy": "2025-01-17T18:50:05.50271Z",
          "iopub.status.idle": "2025-01-17T18:50:05.509143Z",
          "shell.execute_reply": "2025-01-17T18:50:05.508286Z",
          "shell.execute_reply.started": "2025-01-17T18:50:05.503008Z"
        },
        "id": "RfTIsVi5ZPdI",
        "outputId": "006e507e-ae9d-4d47-ea5f-d1f0fef3f0e3",
        "trusted": true
      },
      "outputs": [
        {
          "data": {
            "text/plain": [
              "1    \"My son is halfway through his fourth week of ...\n",
              "2    \"I used to take another oral contraceptive, wh...\n",
              "3    \"This is my first time using any form of birth...\n",
              "6    \"He pulled out, but he cummed a bit in me. I t...\n",
              "7    \"Abilify changed my life. There is hope. I was...\n",
              "Name: review, dtype: object"
            ]
          },
          "execution_count": 40,
          "metadata": {},
          "output_type": "execute_result"
        }
      ],
      "source": [
        "df.review[:5]"
      ]
    },
    {
      "cell_type": "markdown",
      "metadata": {
        "id": "kruo-udyZPdI"
      },
      "source": [
        "## Text Cleaning and Preprocessing"
      ]
    },
    {
      "cell_type": "markdown",
      "metadata": {
        "execution": {
          "iopub.execute_input": "2025-01-03T10:29:06.694984Z",
          "iopub.status.busy": "2025-01-03T10:29:06.694603Z",
          "iopub.status.idle": "2025-01-03T10:29:06.698975Z",
          "shell.execute_reply": "2025-01-03T10:29:06.697736Z",
          "shell.execute_reply.started": "2025-01-03T10:29:06.694923Z"
        },
        "id": "r1cCuucCZPdI"
      },
      "source": [
        "#### Something New: Contraction handling\n",
        "'I'll be' -> 'I will be'"
      ]
    },
    {
      "cell_type": "code",
      "execution_count": 41,
      "metadata": {
        "colab": {
          "base_uri": "https://localhost:8080/",
          "height": 313
        },
        "execution": {
          "iopub.execute_input": "2025-01-17T18:50:07.855149Z",
          "iopub.status.busy": "2025-01-17T18:50:07.854793Z",
          "iopub.status.idle": "2025-01-17T18:50:11.482616Z",
          "shell.execute_reply": "2025-01-17T18:50:11.481583Z",
          "shell.execute_reply.started": "2025-01-17T18:50:07.855124Z"
        },
        "id": "Fc6A5lxxZPdI",
        "outputId": "c0ddf812-f3f3-41c0-efb0-12dc772e7d60",
        "trusted": true
      },
      "outputs": [
        {
          "name": "stdout",
          "output_type": "stream",
          "text": [
            "Requirement already satisfied: contractions in c:\\users\\jayap\\appdata\\local\\programs\\python\\python312\\lib\\site-packages (0.1.73)\n",
            "Requirement already satisfied: textsearch>=0.0.21 in c:\\users\\jayap\\appdata\\local\\programs\\python\\python312\\lib\\site-packages (from contractions) (0.0.24)\n",
            "Requirement already satisfied: anyascii in c:\\users\\jayap\\appdata\\local\\programs\\python\\python312\\lib\\site-packages (from textsearch>=0.0.21->contractions) (0.3.2)\n",
            "Requirement already satisfied: pyahocorasick in c:\\users\\jayap\\appdata\\local\\programs\\python\\python312\\lib\\site-packages (from textsearch>=0.0.21->contractions) (2.1.0)\n"
          ]
        },
        {
          "data": {
            "text/plain": [
              "'I will'"
            ]
          },
          "execution_count": 41,
          "metadata": {},
          "output_type": "execute_result"
        }
      ],
      "source": [
        "!pip install contractions\n",
        "import contractions\n",
        "contractions.fix(\"I'll\")"
      ]
    },
    {
      "cell_type": "code",
      "execution_count": 42,
      "metadata": {
        "colab": {
          "base_uri": "https://localhost:8080/",
          "height": 36
        },
        "execution": {
          "iopub.execute_input": "2025-01-17T18:50:13.239275Z",
          "iopub.status.busy": "2025-01-17T18:50:13.238918Z",
          "iopub.status.idle": "2025-01-17T18:50:13.244702Z",
          "shell.execute_reply": "2025-01-17T18:50:13.243854Z",
          "shell.execute_reply.started": "2025-01-17T18:50:13.239247Z"
        },
        "id": "AJE5_zV1ZPdI",
        "outputId": "dfbf8029-804b-4972-91ed-78301ea660f4",
        "trusted": true
      },
      "outputs": [
        {
          "data": {
            "text/plain": [
              "'are not you'"
            ]
          },
          "execution_count": 42,
          "metadata": {},
          "output_type": "execute_result"
        }
      ],
      "source": [
        "\n",
        "contractions.fix(\"aren't you\")"
      ]
    },
    {
      "cell_type": "markdown",
      "metadata": {
        "id": "h0WqwaoIZPdI"
      },
      "source": [
        "#### So we need to use this contractions library to fix our text"
      ]
    },
    {
      "cell_type": "code",
      "execution_count": 43,
      "metadata": {
        "colab": {
          "base_uri": "https://localhost:8080/",
          "height": 36
        },
        "execution": {
          "iopub.execute_input": "2025-01-17T18:50:21.19366Z",
          "iopub.status.busy": "2025-01-17T18:50:21.193303Z",
          "iopub.status.idle": "2025-01-17T18:50:21.199944Z",
          "shell.execute_reply": "2025-01-17T18:50:21.199055Z",
          "shell.execute_reply.started": "2025-01-17T18:50:21.19363Z"
        },
        "id": "Zh3Ip4SZZPdJ",
        "outputId": "6c75795d-2c0b-4dba-d210-21b8c10a9134",
        "trusted": true
      },
      "outputs": [
        {
          "data": {
            "text/plain": [
              "'Hi, Is not it too late already'"
            ]
          },
          "execution_count": 43,
          "metadata": {},
          "output_type": "execute_result"
        }
      ],
      "source": [
        "def fix_contractions(text):\n",
        "    new_word_list = []\n",
        "    for word in text.split(' '):\n",
        "        new_word_list.append(contractions.fix(word))\n",
        "    new_text = ' '.join(new_word_list)\n",
        "    return new_text\n",
        "\n",
        "fix_contractions(\"Hi, Isn't it too late already\")"
      ]
    },
    {
      "cell_type": "code",
      "execution_count": 44,
      "metadata": {
        "execution": {
          "iopub.execute_input": "2025-01-17T18:50:26.820082Z",
          "iopub.status.busy": "2025-01-17T18:50:26.819699Z",
          "iopub.status.idle": "2025-01-17T18:50:26.823554Z",
          "shell.execute_reply": "2025-01-17T18:50:26.822612Z",
          "shell.execute_reply.started": "2025-01-17T18:50:26.820052Z"
        },
        "id": "2_j8cs_rZPdJ",
        "trusted": true
      },
      "outputs": [],
      "source": [
        "## Another way is to create a contractions dictionary and use it to replace the words."
      ]
    },
    {
      "cell_type": "code",
      "execution_count": 45,
      "metadata": {
        "colab": {
          "base_uri": "https://localhost:8080/",
          "height": 1000
        },
        "execution": {
          "iopub.execute_input": "2025-01-17T18:50:27.189537Z",
          "iopub.status.busy": "2025-01-17T18:50:27.189238Z",
          "iopub.status.idle": "2025-01-17T18:50:27.197333Z",
          "shell.execute_reply": "2025-01-17T18:50:27.196541Z",
          "shell.execute_reply.started": "2025-01-17T18:50:27.189515Z"
        },
        "id": "JfI_VGMFZPdJ",
        "outputId": "00e4479e-143c-4ee8-e90c-7671723920d0",
        "trusted": true
      },
      "outputs": [
        {
          "data": {
            "text/plain": [
              "1      \"My son is halfway through his fourth week of ...\n",
              "2      \"I used to take another oral contraceptive, wh...\n",
              "3      \"This is my first time using any form of birth...\n",
              "6      \"He pulled out, but he cummed a bit in me. I t...\n",
              "7      \"Abilify changed my life. There is hope. I was...\n",
              "9      \"I had been on the pill for many years. When m...\n",
              "11     \"I have taken anti-depressants for years, with...\n",
              "14     \"Started Nexplanon 2 months ago because I have...\n",
              "15     \"I have been taking Saxenda since July 2016.  ...\n",
              "18     \"I&#039;ve been on every medicine under the su...\n",
              "21     \"I have insomnia, it&#039;s horrible. My story...\n",
              "22     \"Nexplanon does its job. I can have worry free...\n",
              "24     \"Do not use the cream that comes with this. It...\n",
              "27     \"Hi all, My son who is 12 was diagnosed when h...\n",
              "31     \"1 week on Zoloft for anxiety and mood swings....\n",
              "32     \"I am 30 years old. I had a multiple composite...\n",
              "33     \"The burning is out of control about 20 minute...\n",
              "37     \"I have been on morphine for at least 7 years....\n",
              "40     \"I am very prone to yeast infections, I believ...\n",
              "41     \"I am just finishing my second week taking Con...\n",
              "44     \"my gp started me on Venlafaxine yesterday to ...\n",
              "47     \"Helps against sadness, and strongly counters ...\n",
              "50     \"Hey Guys,  It&#039;s been 4 months since my l...\n",
              "51     \"Intuniv did not work for my son; he was bounc...\n",
              "52     \"My pain management doctor put me on Butrans p...\n",
              "57     \"I have had great experience so far with Latud...\n",
              "59     \"Never again! After being on depo I was suppos...\n",
              "60     \"Was on this med for 5 years. Worked fine but ...\n",
              "61     \"I was put on Yasmin for 6 months to regulate ...\n",
              "62     \"I love my Butrans patch!!! And it has relieve...\n",
              "63     \"I have been on this for 8 months and sad to s...\n",
              "64     \"I was off birth control for a while consideri...\n",
              "66     \"I just hit my three month point on tretinoin ...\n",
              "67     \"This medicine saved my life. I was at my wits...\n",
              "68                      \"it caused me to gain 30 pounds\"\n",
              "69     \"Best treatment for acne I have used! I&#039;v...\n",
              "74     \"My experience during the nexplon is great not...\n",
              "75     \"I&#039;ve had mine for over a year and notice...\n",
              "77     \"I am always bleeding between periods, I&rsquo...\n",
              "81     \"Started taking it and I slept well at night a...\n",
              "82     \"I have been on pills for years, and in 2012 I...\n",
              "83     \"I had the Mirena put in almost a year ago. In...\n",
              "86     \"I appreciate Lithium. Although my thyroid lev...\n",
              "90     \"This medicine is absolutely terrible. After t...\n",
              "92     \"So yes the first use was an experience. I had...\n",
              "93     \"Had sex on the 7th of August. Took Plan B abo...\n",
              "96     \"Intake Effexor XR 375 mg, and lorazepam for d...\n",
              "97     \"I am torn by the Nuvaring. The convenience is...\n",
              "98     \"I&#039;m 30 years old.  I started having real...\n",
              "102    \"I&#039;ve seriously only been using Epiduo fo...\n",
              "Name: review, dtype: object"
            ]
          },
          "execution_count": 45,
          "metadata": {},
          "output_type": "execute_result"
        }
      ],
      "source": [
        "df.review[:50]"
      ]
    },
    {
      "cell_type": "code",
      "execution_count": 46,
      "metadata": {
        "execution": {
          "iopub.execute_input": "2025-01-17T18:50:37.46805Z",
          "iopub.status.busy": "2025-01-17T18:50:37.467681Z",
          "iopub.status.idle": "2025-01-17T18:50:57.765971Z",
          "shell.execute_reply": "2025-01-17T18:50:57.765211Z",
          "shell.execute_reply.started": "2025-01-17T18:50:37.468021Z"
        },
        "id": "W_vsiFc2ZPdJ",
        "trusted": true
      },
      "outputs": [],
      "source": [
        "# Apply fix_contractions on the review column\n",
        "import pandas as pd\n",
        "pd.options.mode.chained_assignment = None\n",
        "df['review'] = df['review'].apply(lambda text: fix_contractions(text))"
      ]
    },
    {
      "cell_type": "code",
      "execution_count": 47,
      "metadata": {
        "execution": {
          "iopub.execute_input": "2025-01-17T18:51:06.059316Z",
          "iopub.status.busy": "2025-01-17T18:51:06.059005Z",
          "iopub.status.idle": "2025-01-17T18:51:06.173847Z",
          "shell.execute_reply": "2025-01-17T18:51:06.173129Z",
          "shell.execute_reply.started": "2025-01-17T18:51:06.059293Z"
        },
        "id": "0BznX2EKZPdJ",
        "trusted": true
      },
      "outputs": [],
      "source": [
        "# Lower the text\n",
        "df[\"review\"] = df[\"review\"].apply(lambda text: text.lower())"
      ]
    },
    {
      "cell_type": "code",
      "execution_count": 48,
      "metadata": {
        "execution": {
          "iopub.execute_input": "2025-01-17T18:51:10.367051Z",
          "iopub.status.busy": "2025-01-17T18:51:10.366704Z",
          "iopub.status.idle": "2025-01-17T18:51:11.483819Z",
          "shell.execute_reply": "2025-01-17T18:51:11.483081Z",
          "shell.execute_reply.started": "2025-01-17T18:51:10.367023Z"
        },
        "id": "pWdAcZqcZPdJ",
        "trusted": true
      },
      "outputs": [],
      "source": [
        "# Clean the text\n",
        "import re\n",
        "\n",
        "def clean_text(text):\n",
        "    pattern = r'[^a-zA-Z0-9\\s]'\n",
        "    text = re.sub(pattern,'',text)\n",
        "    return text\n",
        "\n",
        "clean_text(\"Hi I am Mr..$%^Robot\")\n",
        "\n",
        "df[\"review\"] = df[\"review\"].apply(lambda text: clean_text(text))"
      ]
    },
    {
      "cell_type": "code",
      "execution_count": 49,
      "metadata": {
        "colab": {
          "base_uri": "https://localhost:8080/",
          "height": 397
        },
        "execution": {
          "iopub.execute_input": "2025-01-17T18:51:14.53668Z",
          "iopub.status.busy": "2025-01-17T18:51:14.536377Z",
          "iopub.status.idle": "2025-01-17T18:51:14.543323Z",
          "shell.execute_reply": "2025-01-17T18:51:14.542364Z",
          "shell.execute_reply.started": "2025-01-17T18:51:14.536657Z"
        },
        "id": "LUHH_S33ZPdJ",
        "outputId": "3786da00-ca4a-40aa-cb23-7926bcb8cb43",
        "trusted": true
      },
      "outputs": [
        {
          "data": {
            "text/plain": [
              "1     my son is halfway through his fourth week of i...\n",
              "2     i used to take another oral contraceptive whic...\n",
              "3     this is my first time using any form of birth ...\n",
              "6     he pulled out but he cummed a bit in me i took...\n",
              "7     abilify changed my life there is hope i was on...\n",
              "9     i had been on the pill for many years when my ...\n",
              "11    i have taken antidepressants for years with so...\n",
              "14    started nexplanon 2 months ago because i have ...\n",
              "15    i have been taking saxenda since july 2016  i ...\n",
              "18    i039ve been on every medicine under the sun it...\n",
              "Name: review, dtype: object"
            ]
          },
          "execution_count": 49,
          "metadata": {},
          "output_type": "execute_result"
        }
      ],
      "source": [
        "df.review[:10]"
      ]
    },
    {
      "cell_type": "markdown",
      "metadata": {
        "id": "4PC8Fy6VZPdK"
      },
      "source": [
        "## Splitting the data for training model"
      ]
    },
    {
      "cell_type": "code",
      "execution_count": 50,
      "metadata": {
        "execution": {
          "iopub.execute_input": "2025-01-17T18:51:19.969169Z",
          "iopub.status.busy": "2025-01-17T18:51:19.968703Z",
          "iopub.status.idle": "2025-01-17T18:51:20.095664Z",
          "shell.execute_reply": "2025-01-17T18:51:20.094897Z",
          "shell.execute_reply.started": "2025-01-17T18:51:19.96913Z"
        },
        "id": "SX3fDVFLZPdK",
        "trusted": true
      },
      "outputs": [],
      "source": [
        "X_train, X_test, y_train, y_test = train_test_split(df['review'],df['condition'],test_size=0.3, stratify= df['condition'])"
      ]
    },
    {
      "cell_type": "code",
      "execution_count": 51,
      "metadata": {
        "colab": {
          "base_uri": "https://localhost:8080/"
        },
        "execution": {
          "iopub.execute_input": "2025-01-17T18:51:22.2749Z",
          "iopub.status.busy": "2025-01-17T18:51:22.274608Z",
          "iopub.status.idle": "2025-01-17T18:51:22.279852Z",
          "shell.execute_reply": "2025-01-17T18:51:22.279041Z",
          "shell.execute_reply.started": "2025-01-17T18:51:22.274878Z"
        },
        "id": "c3fJ_YJ8ZPdK",
        "outputId": "868f592a-5c84-4899-e774-c9312dcbde09",
        "trusted": true
      },
      "outputs": [
        {
          "name": "stdout",
          "output_type": "stream",
          "text": [
            "Train Shape:  (78094,)\n",
            "Test Shape:  (33470,)\n"
          ]
        }
      ],
      "source": [
        "print('Train Shape: ',X_train.shape)\n",
        "print('Test Shape: ',X_test.shape)"
      ]
    },
    {
      "cell_type": "markdown",
      "metadata": {
        "execution": {
          "iopub.execute_input": "2025-01-03T11:20:10.031545Z",
          "iopub.status.busy": "2025-01-03T11:20:10.031197Z",
          "iopub.status.idle": "2025-01-03T11:20:10.034784Z",
          "shell.execute_reply": "2025-01-03T11:20:10.033879Z",
          "shell.execute_reply.started": "2025-01-03T11:20:10.031516Z"
        },
        "id": "gGQiMm2PZPdK"
      },
      "source": [
        "## Natural Language Processing for Text Data"
      ]
    },
    {
      "cell_type": "code",
      "execution_count": 52,
      "metadata": {
        "colab": {
          "base_uri": "https://localhost:8080/"
        },
        "execution": {
          "iopub.execute_input": "2025-01-17T18:51:25.598409Z",
          "iopub.status.busy": "2025-01-17T18:51:25.598104Z",
          "iopub.status.idle": "2025-01-17T18:51:28.72921Z",
          "shell.execute_reply": "2025-01-17T18:51:28.728016Z",
          "shell.execute_reply.started": "2025-01-17T18:51:25.598386Z"
        },
        "id": "65dzpYD-ZPdK",
        "outputId": "adf41b62-ff9b-492d-a06e-c60a8f9f2b2b",
        "trusted": true
      },
      "outputs": [
        {
          "name": "stdout",
          "output_type": "stream",
          "text": [
            "Name: keras\n",
            "Version: 3.9.1\n",
            "Summary: Multi-backend Keras\n",
            "Home-page: \n",
            "Author: \n",
            "Author-email: Keras team <keras-users@googlegroups.com>\n",
            "License: Apache License 2.0\n",
            "Location: C:\\Users\\jayap\\AppData\\Local\\Programs\\Python\\Python312\\Lib\\site-packages\n",
            "Requires: absl-py, h5py, ml-dtypes, namex, numpy, optree, packaging, rich\n",
            "Required-by: tensorflow\n"
          ]
        }
      ],
      "source": [
        "# Check keras is installed or not\n",
        "!pip show keras"
      ]
    },
    {
      "cell_type": "code",
      "execution_count": 53,
      "metadata": {},
      "outputs": [
        {
          "name": "stdout",
          "output_type": "stream",
          "text": [
            "Requirement already satisfied: tensorflow in c:\\users\\jayap\\appdata\\local\\programs\\python\\python312\\lib\\site-packages (2.19.0)\n",
            "Requirement already satisfied: absl-py>=1.0.0 in c:\\users\\jayap\\appdata\\local\\programs\\python\\python312\\lib\\site-packages (from tensorflow) (2.2.1)\n",
            "Requirement already satisfied: astunparse>=1.6.0 in c:\\users\\jayap\\appdata\\local\\programs\\python\\python312\\lib\\site-packages (from tensorflow) (1.6.3)\n",
            "Requirement already satisfied: flatbuffers>=24.3.25 in c:\\users\\jayap\\appdata\\local\\programs\\python\\python312\\lib\\site-packages (from tensorflow) (25.2.10)\n",
            "Requirement already satisfied: gast!=0.5.0,!=0.5.1,!=0.5.2,>=0.2.1 in c:\\users\\jayap\\appdata\\local\\programs\\python\\python312\\lib\\site-packages (from tensorflow) (0.6.0)\n",
            "Requirement already satisfied: google-pasta>=0.1.1 in c:\\users\\jayap\\appdata\\local\\programs\\python\\python312\\lib\\site-packages (from tensorflow) (0.2.0)\n",
            "Requirement already satisfied: libclang>=13.0.0 in c:\\users\\jayap\\appdata\\local\\programs\\python\\python312\\lib\\site-packages (from tensorflow) (18.1.1)\n",
            "Requirement already satisfied: opt-einsum>=2.3.2 in c:\\users\\jayap\\appdata\\local\\programs\\python\\python312\\lib\\site-packages (from tensorflow) (3.4.0)\n",
            "Requirement already satisfied: packaging in c:\\users\\jayap\\appdata\\local\\programs\\python\\python312\\lib\\site-packages (from tensorflow) (24.2)\n",
            "Requirement already satisfied: protobuf!=4.21.0,!=4.21.1,!=4.21.2,!=4.21.3,!=4.21.4,!=4.21.5,<6.0.0dev,>=3.20.3 in c:\\users\\jayap\\appdata\\local\\programs\\python\\python312\\lib\\site-packages (from tensorflow) (5.29.4)\n",
            "Requirement already satisfied: requests<3,>=2.21.0 in c:\\users\\jayap\\appdata\\local\\programs\\python\\python312\\lib\\site-packages (from tensorflow) (2.32.3)\n",
            "Requirement already satisfied: setuptools in c:\\users\\jayap\\appdata\\local\\programs\\python\\python312\\lib\\site-packages (from tensorflow) (65.5.0)\n",
            "Requirement already satisfied: six>=1.12.0 in c:\\users\\jayap\\appdata\\local\\programs\\python\\python312\\lib\\site-packages (from tensorflow) (1.17.0)\n",
            "Requirement already satisfied: termcolor>=1.1.0 in c:\\users\\jayap\\appdata\\local\\programs\\python\\python312\\lib\\site-packages (from tensorflow) (2.5.0)\n",
            "Requirement already satisfied: typing-extensions>=3.6.6 in c:\\users\\jayap\\appdata\\local\\programs\\python\\python312\\lib\\site-packages (from tensorflow) (4.13.0)\n",
            "Requirement already satisfied: wrapt>=1.11.0 in c:\\users\\jayap\\appdata\\local\\programs\\python\\python312\\lib\\site-packages (from tensorflow) (1.17.2)\n",
            "Requirement already satisfied: grpcio<2.0,>=1.24.3 in c:\\users\\jayap\\appdata\\local\\programs\\python\\python312\\lib\\site-packages (from tensorflow) (1.71.0)\n",
            "Requirement already satisfied: tensorboard~=2.19.0 in c:\\users\\jayap\\appdata\\local\\programs\\python\\python312\\lib\\site-packages (from tensorflow) (2.19.0)\n",
            "Requirement already satisfied: keras>=3.5.0 in c:\\users\\jayap\\appdata\\local\\programs\\python\\python312\\lib\\site-packages (from tensorflow) (3.9.1)\n",
            "Requirement already satisfied: numpy<2.2.0,>=1.26.0 in c:\\users\\jayap\\appdata\\local\\programs\\python\\python312\\lib\\site-packages (from tensorflow) (1.26.4)\n",
            "Requirement already satisfied: h5py>=3.11.0 in c:\\users\\jayap\\appdata\\local\\programs\\python\\python312\\lib\\site-packages (from tensorflow) (3.13.0)\n",
            "Requirement already satisfied: ml-dtypes<1.0.0,>=0.5.1 in c:\\users\\jayap\\appdata\\local\\programs\\python\\python312\\lib\\site-packages (from tensorflow) (0.5.1)\n",
            "Requirement already satisfied: wheel<1.0,>=0.23.0 in c:\\users\\jayap\\appdata\\local\\programs\\python\\python312\\lib\\site-packages (from astunparse>=1.6.0->tensorflow) (0.45.1)\n",
            "Requirement already satisfied: rich in c:\\users\\jayap\\appdata\\local\\programs\\python\\python312\\lib\\site-packages (from keras>=3.5.0->tensorflow) (14.0.0)\n",
            "Requirement already satisfied: namex in c:\\users\\jayap\\appdata\\local\\programs\\python\\python312\\lib\\site-packages (from keras>=3.5.0->tensorflow) (0.0.8)\n",
            "Requirement already satisfied: optree in c:\\users\\jayap\\appdata\\local\\programs\\python\\python312\\lib\\site-packages (from keras>=3.5.0->tensorflow) (0.14.1)\n",
            "Requirement already satisfied: charset-normalizer<4,>=2 in c:\\users\\jayap\\appdata\\local\\programs\\python\\python312\\lib\\site-packages (from requests<3,>=2.21.0->tensorflow) (3.4.1)\n",
            "Requirement already satisfied: idna<4,>=2.5 in c:\\users\\jayap\\appdata\\local\\programs\\python\\python312\\lib\\site-packages (from requests<3,>=2.21.0->tensorflow) (3.10)\n",
            "Requirement already satisfied: urllib3<3,>=1.21.1 in c:\\users\\jayap\\appdata\\local\\programs\\python\\python312\\lib\\site-packages (from requests<3,>=2.21.0->tensorflow) (2.3.0)\n",
            "Requirement already satisfied: certifi>=2017.4.17 in c:\\users\\jayap\\appdata\\local\\programs\\python\\python312\\lib\\site-packages (from requests<3,>=2.21.0->tensorflow) (2025.1.31)\n",
            "Requirement already satisfied: markdown>=2.6.8 in c:\\users\\jayap\\appdata\\local\\programs\\python\\python312\\lib\\site-packages (from tensorboard~=2.19.0->tensorflow) (3.7)\n",
            "Requirement already satisfied: tensorboard-data-server<0.8.0,>=0.7.0 in c:\\users\\jayap\\appdata\\local\\programs\\python\\python312\\lib\\site-packages (from tensorboard~=2.19.0->tensorflow) (0.7.2)\n",
            "Requirement already satisfied: werkzeug>=1.0.1 in c:\\users\\jayap\\appdata\\local\\programs\\python\\python312\\lib\\site-packages (from tensorboard~=2.19.0->tensorflow) (3.1.3)\n",
            "Requirement already satisfied: MarkupSafe>=2.1.1 in c:\\users\\jayap\\appdata\\local\\programs\\python\\python312\\lib\\site-packages (from werkzeug>=1.0.1->tensorboard~=2.19.0->tensorflow) (3.0.2)\n",
            "Requirement already satisfied: markdown-it-py>=2.2.0 in c:\\users\\jayap\\appdata\\local\\programs\\python\\python312\\lib\\site-packages (from rich->keras>=3.5.0->tensorflow) (3.0.0)\n",
            "Requirement already satisfied: pygments<3.0.0,>=2.13.0 in c:\\users\\jayap\\appdata\\local\\programs\\python\\python312\\lib\\site-packages (from rich->keras>=3.5.0->tensorflow) (2.19.1)\n",
            "Requirement already satisfied: mdurl~=0.1 in c:\\users\\jayap\\appdata\\local\\programs\\python\\python312\\lib\\site-packages (from markdown-it-py>=2.2.0->rich->keras>=3.5.0->tensorflow) (0.1.2)\n",
            "Note: you may need to restart the kernel to use updated packages.\n"
          ]
        }
      ],
      "source": [
        "pip install tensorflow"
      ]
    },
    {
      "cell_type": "code",
      "execution_count": 54,
      "metadata": {
        "execution": {
          "iopub.execute_input": "2025-01-17T18:51:33.056153Z",
          "iopub.status.busy": "2025-01-17T18:51:33.055752Z",
          "iopub.status.idle": "2025-01-17T18:51:55.953353Z",
          "shell.execute_reply": "2025-01-17T18:51:55.95227Z",
          "shell.execute_reply.started": "2025-01-17T18:51:33.056119Z"
        },
        "id": "yrHH0cSNZPdK",
        "trusted": true
      },
      "outputs": [],
      "source": [
        "# Tokenize the sentences\n",
        "\n",
        "# Necessary imports\n",
        "from tensorflow.keras.preprocessing.text import Tokenizer\n",
        "from tensorflow.keras.preprocessing.sequence import pad_sequences\n",
        "\n",
        "# Set Basic Parameters\n",
        "max_features = 120000\n",
        "maxlen = 750 # max number of words in a question to use\n",
        "\n",
        "tokenizer = Tokenizer()\n",
        "tokenizer.fit_on_texts(list(X_train))\n",
        "X_train = tokenizer.texts_to_sequences(X_train)\n",
        "X_test = tokenizer.texts_to_sequences(X_test)\n",
        "\n",
        "# Pad the sentences\n",
        "X_train = pad_sequences(X_train, maxlen=maxlen)\n",
        "X_test = pad_sequences(X_test, maxlen=maxlen)"
      ]
    },
    {
      "cell_type": "code",
      "execution_count": 55,
      "metadata": {
        "colab": {
          "base_uri": "https://localhost:8080/"
        },
        "execution": {
          "iopub.execute_input": "2025-01-17T18:52:03.632679Z",
          "iopub.status.busy": "2025-01-17T18:52:03.632105Z",
          "iopub.status.idle": "2025-01-17T18:52:03.638538Z",
          "shell.execute_reply": "2025-01-17T18:52:03.637662Z",
          "shell.execute_reply.started": "2025-01-17T18:52:03.63265Z"
        },
        "id": "6q-pz84BZPdK",
        "outputId": "897da5dc-f161-407f-916c-25bf5361f6f8",
        "trusted": true
      },
      "outputs": [
        {
          "data": {
            "text/plain": [
              "array([[  0,   0,   0, ...,  21, 187, 430],\n",
              "       [  0,   0,   0, ...,   5, 651, 650],\n",
              "       [  0,   0,   0, ...,  15,   5, 193],\n",
              "       ...,\n",
              "       [  0,   0,   0, ..., 574, 225,  68],\n",
              "       [  0,   0,   0, ..., 514,  26, 567],\n",
              "       [  0,   0,   0, ..., 496, 402, 176]])"
            ]
          },
          "execution_count": 55,
          "metadata": {},
          "output_type": "execute_result"
        }
      ],
      "source": [
        "X_train"
      ]
    },
    {
      "cell_type": "code",
      "execution_count": 56,
      "metadata": {
        "colab": {
          "base_uri": "https://localhost:8080/"
        },
        "execution": {
          "iopub.execute_input": "2025-01-17T18:52:04.294214Z",
          "iopub.status.busy": "2025-01-17T18:52:04.293832Z",
          "iopub.status.idle": "2025-01-17T18:52:04.300089Z",
          "shell.execute_reply": "2025-01-17T18:52:04.299126Z",
          "shell.execute_reply.started": "2025-01-17T18:52:04.294185Z"
        },
        "id": "lp5ZxpWTZPdL",
        "outputId": "69e6d303-5491-44ab-a054-dc1c5b5a0a64",
        "trusted": true
      },
      "outputs": [
        {
          "data": {
            "text/plain": [
              "array([[   0,    0,    0, ...,    2,    7,  794],\n",
              "       [   0,    0,    0, ...,    3,  124,  564],\n",
              "       [   0,    0,    0, ...,    8,   17,  158],\n",
              "       ...,\n",
              "       [   0,    0,    0, ...,   13,    4,  353],\n",
              "       [   0,    0,    0, ...,   48,   11,    6],\n",
              "       [   0,    0,    0, ...,   23,   52, 1040]])"
            ]
          },
          "execution_count": 56,
          "metadata": {},
          "output_type": "execute_result"
        }
      ],
      "source": [
        "X_test"
      ]
    },
    {
      "cell_type": "code",
      "execution_count": 57,
      "metadata": {
        "colab": {
          "base_uri": "https://localhost:8080/",
          "height": 458
        },
        "execution": {
          "iopub.execute_input": "2025-01-17T18:52:05.35976Z",
          "iopub.status.busy": "2025-01-17T18:52:05.359433Z",
          "iopub.status.idle": "2025-01-17T18:52:05.36741Z",
          "shell.execute_reply": "2025-01-17T18:52:05.366194Z",
          "shell.execute_reply.started": "2025-01-17T18:52:05.359732Z"
        },
        "id": "-N_LkWH1ZPdL",
        "outputId": "b390a719-184e-4b73-b7ae-e0d4b5fd5d0d",
        "trusted": true
      },
      "outputs": [
        {
          "data": {
            "text/plain": [
              "36612           Birth Control\n",
              "144416                Anxiety\n",
              "87947         Bipolar Disorde\n",
              "12986           Birth Control\n",
              "81527                    Pain\n",
              "                 ...         \n",
              "4338      High Blood Pressure\n",
              "22707           Birth Control\n",
              "31952           Birth Control\n",
              "80586           Birth Control\n",
              "107404          Birth Control\n",
              "Name: condition, Length: 78094, dtype: object"
            ]
          },
          "execution_count": 57,
          "metadata": {},
          "output_type": "execute_result"
        }
      ],
      "source": [
        "y_train"
      ]
    },
    {
      "cell_type": "code",
      "execution_count": 58,
      "metadata": {
        "execution": {
          "execution_failed": "2025-01-17T18:27:51.909Z"
        },
        "id": "B5DM4S62ZPdL",
        "trusted": true
      },
      "outputs": [],
      "source": [
        "# We need to do label encoding for target classes"
      ]
    },
    {
      "cell_type": "markdown",
      "metadata": {
        "id": "F9x_iCD2ZPdL"
      },
      "source": [
        "## Label Encoding"
      ]
    },
    {
      "cell_type": "code",
      "execution_count": 59,
      "metadata": {
        "execution": {
          "iopub.execute_input": "2025-01-17T18:52:14.346069Z",
          "iopub.status.busy": "2025-01-17T18:52:14.345612Z",
          "iopub.status.idle": "2025-01-17T18:52:14.381581Z",
          "shell.execute_reply": "2025-01-17T18:52:14.380508Z",
          "shell.execute_reply.started": "2025-01-17T18:52:14.346036Z"
        },
        "id": "2IGHCvEpZPdL",
        "trusted": true
      },
      "outputs": [],
      "source": [
        "from sklearn.preprocessing import LabelEncoder\n",
        "le = LabelEncoder()\n",
        "y_train = le.fit_transform(y_train)\n",
        "y_test = le.transform(y_test)"
      ]
    },
    {
      "cell_type": "code",
      "execution_count": 60,
      "metadata": {
        "colab": {
          "base_uri": "https://localhost:8080/"
        },
        "execution": {
          "iopub.execute_input": "2025-01-17T18:52:14.94051Z",
          "iopub.status.busy": "2025-01-17T18:52:14.940196Z",
          "iopub.status.idle": "2025-01-17T18:52:14.946435Z",
          "shell.execute_reply": "2025-01-17T18:52:14.945441Z",
          "shell.execute_reply.started": "2025-01-17T18:52:14.940488Z"
        },
        "id": "en4GQTH3ZPdL",
        "outputId": "114aae65-d57a-4fc2-c86e-53416604b536",
        "trusted": true
      },
      "outputs": [
        {
          "data": {
            "text/plain": [
              "array([4, 2, 3, ..., 4, 4, 4])"
            ]
          },
          "execution_count": 60,
          "metadata": {},
          "output_type": "execute_result"
        }
      ],
      "source": [
        "y_train"
      ]
    },
    {
      "cell_type": "code",
      "execution_count": 61,
      "metadata": {
        "colab": {
          "base_uri": "https://localhost:8080/"
        },
        "execution": {
          "iopub.execute_input": "2025-01-17T18:52:15.53157Z",
          "iopub.status.busy": "2025-01-17T18:52:15.531274Z",
          "iopub.status.idle": "2025-01-17T18:52:15.536907Z",
          "shell.execute_reply": "2025-01-17T18:52:15.536142Z",
          "shell.execute_reply.started": "2025-01-17T18:52:15.531548Z"
        },
        "id": "mCn4OkqbZPdL",
        "outputId": "368bf9b0-7e35-4d51-96b2-42ce0c4fc0fb",
        "trusted": true
      },
      "outputs": [
        {
          "data": {
            "text/plain": [
              "array(['ADHD', 'Acne', 'Anxiety', 'Bipolar Disorde', 'Birth Control',\n",
              "       'Depression', 'Diabetes, Type 2', 'Emergency Contraception',\n",
              "       'High Blood Pressure', 'Insomnia', 'Obesity', 'Pain',\n",
              "       'Vaginal Yeast Infection', 'Weight Loss'], dtype=object)"
            ]
          },
          "execution_count": 61,
          "metadata": {},
          "output_type": "execute_result"
        }
      ],
      "source": [
        "le.classes_"
      ]
    },
    {
      "cell_type": "markdown",
      "metadata": {
        "id": "ABp1LwqPZPdL"
      },
      "source": [
        "#### Now, we have our text converted into word_index and labels encoded, now we need to load embeddings for semantic understanding."
      ]
    },
    {
      "cell_type": "markdown",
      "metadata": {
        "id": "zBmDNj_BZPdL"
      },
      "source": [
        "## Load Embeddings"
      ]
    },
    {
      "cell_type": "code",
      "execution_count": 62,
      "metadata": {},
      "outputs": [
        {
          "name": "stdout",
          "output_type": "stream",
          "text": [
            "Collecting numpy<2.2.0,>=1.26.0\n",
            "  Using cached numpy-2.1.3-cp312-cp312-win_amd64.whl.metadata (60 kB)\n",
            "Using cached numpy-2.1.3-cp312-cp312-win_amd64.whl (12.6 MB)\n",
            "Installing collected packages: numpy\n",
            "  Attempting uninstall: numpy\n",
            "    Found existing installation: numpy 1.26.4\n",
            "    Uninstalling numpy-1.26.4:\n",
            "      Successfully uninstalled numpy-1.26.4\n",
            "Successfully installed numpy-2.1.3\n",
            "Note: you may need to restart the kernel to use updated packages.\n"
          ]
        },
        {
          "name": "stderr",
          "output_type": "stream",
          "text": [
            "  WARNING: Failed to remove contents in a temporary directory 'C:\\Users\\jayap\\AppData\\Local\\Programs\\Python\\Python312\\Lib\\site-packages\\~~mpy.libs'.\n",
            "  You can safely remove it manually.\n",
            "  WARNING: Failed to remove contents in a temporary directory 'C:\\Users\\jayap\\AppData\\Local\\Programs\\Python\\Python312\\Lib\\site-packages\\~~mpy'.\n",
            "  You can safely remove it manually.\n",
            "ERROR: pip's dependency resolver does not currently take into account all the packages that are installed. This behaviour is the source of the following dependency conflicts.\n",
            "gensim 4.3.3 requires numpy<2.0,>=1.18.5, but you have numpy 2.1.3 which is incompatible.\n"
          ]
        }
      ],
      "source": [
        "pip install \"numpy>=1.26.0,<2.2.0\" --force-reinstall"
      ]
    },
    {
      "cell_type": "code",
      "execution_count": 63,
      "metadata": {},
      "outputs": [
        {
          "name": "stdout",
          "output_type": "stream",
          "text": [
            "Note: you may need to restart the kernel to use updated packages.\n"
          ]
        }
      ],
      "source": [
        "pip install --pre gensim>=4.4.0"
      ]
    },
    {
      "cell_type": "code",
      "execution_count": 64,
      "metadata": {
        "colab": {
          "base_uri": "https://localhost:8080/"
        },
        "execution": {
          "iopub.execute_input": "2025-01-17T19:32:02.869848Z",
          "iopub.status.busy": "2025-01-17T19:32:02.869515Z",
          "iopub.status.idle": "2025-01-17T19:33:14.576335Z",
          "shell.execute_reply": "2025-01-17T19:33:14.57533Z",
          "shell.execute_reply.started": "2025-01-17T19:32:02.869824Z"
        },
        "id": "fJMw51SQZPdL",
        "outputId": "55ff5646-0f31-44ad-9dfc-a25ee34149a9",
        "trusted": true
      },
      "outputs": [],
      "source": [
        "# Imports\n",
        "import gensim.downloader as api\n",
        "\n",
        "\n",
        "# Download the GloVe 6B 100d model\n",
        "model = api.load(\"glove-wiki-gigaword-300\")\n",
        "\n",
        "# Check if loaded correctly\n",
        "# print(model[\"king\"])"
      ]
    },
    {
      "cell_type": "code",
      "execution_count": 65,
      "metadata": {
        "execution": {
          "iopub.execute_input": "2025-01-17T19:33:46.442605Z",
          "iopub.status.busy": "2025-01-17T19:33:46.442283Z",
          "iopub.status.idle": "2025-01-17T19:34:39.851681Z",
          "shell.execute_reply": "2025-01-17T19:34:39.850683Z",
          "shell.execute_reply.started": "2025-01-17T19:33:46.442583Z"
        },
        "id": "cAxwdBLZZPdM",
        "trusted": true
      },
      "outputs": [],
      "source": [
        "# Save the GloVe model in word2vec format\n",
        "model.save_word2vec_format('glove-wiki-gigaword-300.word2vec.txt', binary=False)"
      ]
    },
    {
      "cell_type": "code",
      "execution_count": 66,
      "metadata": {},
      "outputs": [
        {
          "name": "stdout",
          "output_type": "stream",
          "text": [
            "c:\\Users\\jayap\\OneDrive\\Desktop\\Disease-Prediction-and-Drug-Recommendation-Prototype-main\\glove-wiki-gigaword-300.word2vec.txt\n"
          ]
        }
      ],
      "source": [
        "import os\n",
        "print(os.path.abspath('glove-wiki-gigaword-300.word2vec.txt'))"
      ]
    },
    {
      "cell_type": "code",
      "execution_count": 67,
      "metadata": {
        "colab": {
          "base_uri": "https://localhost:8080/"
        },
        "execution": {
          "iopub.execute_input": "2025-01-17T19:35:12.499776Z",
          "iopub.status.busy": "2025-01-17T19:35:12.499425Z",
          "iopub.status.idle": "2025-01-17T19:36:16.921328Z",
          "shell.execute_reply": "2025-01-17T19:36:16.920429Z",
          "shell.execute_reply.started": "2025-01-17T19:35:12.499748Z"
        },
        "id": "KJSp18LyZPdM",
        "outputId": "b558456b-d03e-48d4-aa6b-8b67c9c37c4b",
        "trusted": true
      },
      "outputs": [
        {
          "name": "stdout",
          "output_type": "stream",
          "text": [
            "[ 0.0033901 -0.34614    0.28144    0.48382    0.59469    0.012965\n",
            "  0.53982    0.48233    0.21463   -1.0249    -0.34788   -0.79001\n",
            " -0.15084    0.61374    0.042811   0.19323    0.25462    0.32528\n",
            "  0.05698    0.063253  -0.49439    0.47337   -0.16761    0.045594\n",
            "  0.30451   -0.35416   -0.34583   -0.20118    0.25511    0.091111\n",
            "  0.014651  -0.017541  -0.23854    0.48215   -0.9145    -0.36235\n",
            "  0.34736    0.028639  -0.027065  -0.036481  -0.067391  -0.23452\n",
            " -0.13772    0.33951    0.13415   -0.1342     0.47856   -0.1842\n",
            "  0.10705   -0.45834   -0.36085   -0.22595    0.32881   -0.13643\n",
            "  0.23128    0.34269    0.42344    0.47057    0.479      0.074639\n",
            "  0.3344     0.10714   -0.13289    0.58734    0.38616   -0.52238\n",
            " -0.22028   -0.072322   0.32269    0.44226   -0.037382   0.18324\n",
            "  0.058082   0.26938    0.36202    0.13983    0.016815  -0.34426\n",
            "  0.4827     0.2108     0.75618   -0.13092   -0.025741   0.43391\n",
            "  0.33893   -0.16438    0.26817    0.68774    0.311     -0.2509\n",
            "  0.0027749 -0.39809   -0.43399    0.049531  -0.42686   -0.094679\n",
            "  0.56925    0.28742   -0.015721  -0.059162   0.1912    -0.59814\n",
            "  0.65486   -0.31363    0.16881    0.10862    0.075316   0.34093\n",
            " -0.14706    0.8359     0.39697    0.52358   -0.0096367 -0.14406\n",
            "  0.37783   -0.596     -0.063192  -0.85297   -0.3098    -1.0587\n",
            " -1.025      0.4508    -0.73324   -1.2461    -0.028488   0.20299\n",
            "  0.00259    0.31995    0.35744    0.28533    0.228      0.50956\n",
            " -0.35942    0.32683    0.046264  -0.86896   -0.2707    -0.15454\n",
            " -0.32152    0.31121    0.44134    0.85189    0.21065   -0.13741\n",
            " -0.15359   -0.059722   0.027375   0.23724   -0.39197   -0.66065\n",
            "  0.23587    0.032384  -0.64043    0.55004    0.29597    0.14989\n",
            "  0.46079   -0.26561   -0.1607    -0.36328    1.0782     0.31375\n",
            "  0.1149     0.20248    0.032748   0.41082   -0.082536   0.36606\n",
            "  0.18771    0.75415    0.079648   0.24181   -0.60319   -0.37296\n",
            " -0.047767   0.45008   -0.21135    0.022251  -0.084325   0.18644\n",
            " -0.14682    0.56571   -0.30995    0.17423   -0.41122   -0.84772\n",
            " -0.71114    0.69895   -0.13008   -0.34195   -0.30501   -0.12646\n",
            "  0.29957   -0.43488    0.31935    0.2817    -0.20631   -0.48877\n",
            "  0.34477    0.03907    1.6198    -0.6352    -0.0037675 -0.41271\n",
            "  0.30704   -0.50486    0.036385  -0.046386  -0.12004    0.010029\n",
            " -0.49116    0.041486   0.002979  -0.57694   -0.42088   -0.063218\n",
            "  0.0034244 -0.25093   -0.39689   -0.36984    0.32689    0.01385\n",
            "  0.23634   -0.055199  -0.58453    0.13211    0.50943    0.25198\n",
            " -0.0088309 -0.21273   -0.48423    0.5234    -0.32832   -0.013821\n",
            "  0.15812    0.46696    0.036822  -0.090878   0.18854    0.20794\n",
            " -0.42682    0.59705    0.53109    0.19185   -0.16392    0.064956\n",
            " -0.36009   -0.59882   -0.28134    0.1017     0.02601    0.44298\n",
            " -0.31922   -0.22432    0.7828     0.041307   0.1742     0.27777\n",
            "  0.43792   -0.84324    0.27012   -0.21547    0.52408   -0.19426\n",
            " -0.21878   -0.20713    0.092994  -0.15804    0.28716   -0.11911\n",
            " -0.20688   -0.36482    0.68548   -0.10394   -0.49974   -0.47038\n",
            " -1.2953    -0.46236    0.44467    0.13337    0.88762   -0.26494\n",
            "  0.080676  -0.20625   -0.51232    0.31112    0.062035   0.30302\n",
            " -0.33344   -0.20924   -0.17348   -0.43434   -0.45743   -0.077803\n",
            " -0.33248   -0.078633   0.82182    0.082088  -0.68795    0.30266  ]\n"
          ]
        }
      ],
      "source": [
        "from gensim.models import KeyedVectors\n",
        "\n",
        "# Load the model\n",
        "gensim_model = KeyedVectors.load_word2vec_format(\"glove-wiki-gigaword-300.word2vec.txt\", binary=False)\n",
        "\n",
        "# Test it\n",
        "print(gensim_model[\"king\"])"
      ]
    },
    {
      "cell_type": "markdown",
      "metadata": {
        "id": "AV2Vtkx7ZPdM"
      },
      "source": [
        "Cool, it's working"
      ]
    },
    {
      "cell_type": "code",
      "execution_count": 68,
      "metadata": {
        "colab": {
          "base_uri": "https://localhost:8080/"
        },
        "execution": {
          "iopub.execute_input": "2025-01-17T19:36:25.200778Z",
          "iopub.status.busy": "2025-01-17T19:36:25.20048Z",
          "iopub.status.idle": "2025-01-17T19:36:25.206593Z",
          "shell.execute_reply": "2025-01-17T19:36:25.205584Z",
          "shell.execute_reply.started": "2025-01-17T19:36:25.200757Z"
        },
        "id": "r-71EHmfZPdM",
        "outputId": "ca5a3678-66bb-4f6c-e89b-e7a3dcf3152a",
        "trusted": true
      },
      "outputs": [
        {
          "data": {
            "text/plain": [
              "300"
            ]
          },
          "execution_count": 68,
          "metadata": {},
          "output_type": "execute_result"
        }
      ],
      "source": [
        "len(gensim_model[\"king\"])"
      ]
    },
    {
      "cell_type": "code",
      "execution_count": 69,
      "metadata": {
        "colab": {
          "base_uri": "https://localhost:8080/"
        },
        "execution": {
          "iopub.execute_input": "2025-01-17T19:36:27.335255Z",
          "iopub.status.busy": "2025-01-17T19:36:27.334886Z",
          "iopub.status.idle": "2025-01-17T19:36:27.340558Z",
          "shell.execute_reply": "2025-01-17T19:36:27.339651Z",
          "shell.execute_reply.started": "2025-01-17T19:36:27.335227Z"
        },
        "id": "fbMvvMEpZPdM",
        "outputId": "8b33c029-d6bb-448d-9018-712d8567517b",
        "trusted": true
      },
      "outputs": [
        {
          "data": {
            "text/plain": [
              "300"
            ]
          },
          "execution_count": 69,
          "metadata": {},
          "output_type": "execute_result"
        }
      ],
      "source": [
        "len(gensim_model[\"finance\"])"
      ]
    },
    {
      "cell_type": "code",
      "execution_count": 70,
      "metadata": {
        "execution": {
          "iopub.execute_input": "2025-01-17T19:39:10.798933Z",
          "iopub.status.busy": "2025-01-17T19:39:10.798538Z",
          "iopub.status.idle": "2025-01-17T19:39:10.978355Z",
          "shell.execute_reply": "2025-01-17T19:39:10.977397Z",
          "shell.execute_reply.started": "2025-01-17T19:39:10.7989Z"
        },
        "id": "RTDv_w3DZPdM",
        "trusted": true
      },
      "outputs": [],
      "source": [
        "# Create an Embedding Matrix: Map each word in your word_index to its vector\n",
        "# in the pre-trained embeddings:\n",
        "import numpy as np\n",
        "from tensorflow.keras.preprocessing.text import Tokenizer\n",
        "\n",
        "embedding_dim = 300\n",
        "word_index = tokenizer.word_index\n",
        "embedding_matrix = np.zeros((len(word_index) + 1, embedding_dim))\n",
        "\n",
        "for word, i in word_index.items():\n",
        "    if word in gensim_model:\n",
        "        embedding_matrix[i] = gensim_model[word]"
      ]
    },
    {
      "cell_type": "code",
      "execution_count": 71,
      "metadata": {},
      "outputs": [
        {
          "name": "stdout",
          "output_type": "stream",
          "text": [
            "True\n",
            "True\n"
          ]
        }
      ],
      "source": [
        "print('suicide' in gensim_model)  # Check if the word is in embeddings\n",
        "print('depression' in gensim_model)"
      ]
    },
    {
      "cell_type": "markdown",
      "metadata": {
        "id": "tyYgzpIeZPdM"
      },
      "source": [
        "This code is typically used to populate an embedding matrix for a neural network using pre-trained word embeddings (such as GloVe or Word2Vec). The idea is to represent each word in your vocabulary as a vector of real numbers (embeddings) that capture the meaning of the word based on its context in large text corpora."
      ]
    },
    {
      "cell_type": "code",
      "execution_count": 72,
      "metadata": {
        "colab": {
          "base_uri": "https://localhost:8080/"
        },
        "execution": {
          "iopub.execute_input": "2025-01-17T19:39:14.455613Z",
          "iopub.status.busy": "2025-01-17T19:39:14.455298Z",
          "iopub.status.idle": "2025-01-17T19:39:14.461088Z",
          "shell.execute_reply": "2025-01-17T19:39:14.460124Z",
          "shell.execute_reply.started": "2025-01-17T19:39:14.455588Z"
        },
        "id": "y59Fsj5QZPdM",
        "outputId": "f875d3bb-f5eb-4d2e-fda6-a7a148a6ab48",
        "trusted": true
      },
      "outputs": [
        {
          "data": {
            "text/plain": [
              "113"
            ]
          },
          "execution_count": 72,
          "metadata": {},
          "output_type": "execute_result"
        }
      ],
      "source": [
        "word_index['depression']"
      ]
    },
    {
      "cell_type": "code",
      "execution_count": 73,
      "metadata": {
        "colab": {
          "base_uri": "https://localhost:8080/"
        },
        "execution": {
          "iopub.execute_input": "2025-01-17T19:39:16.915011Z",
          "iopub.status.busy": "2025-01-17T19:39:16.914646Z",
          "iopub.status.idle": "2025-01-17T19:39:16.92069Z",
          "shell.execute_reply": "2025-01-17T19:39:16.919577Z",
          "shell.execute_reply.started": "2025-01-17T19:39:16.914943Z"
        },
        "id": "Om74THGjZPdN",
        "outputId": "a16f00d7-c226-4b79-bf3e-dff8e10c9883",
        "trusted": true
      },
      "outputs": [
        {
          "data": {
            "text/plain": [
              "1450"
            ]
          },
          "execution_count": 73,
          "metadata": {},
          "output_type": "execute_result"
        }
      ],
      "source": [
        "word_index['suicide']"
      ]
    },
    {
      "cell_type": "code",
      "execution_count": 74,
      "metadata": {
        "colab": {
          "base_uri": "https://localhost:8080/"
        },
        "execution": {
          "iopub.execute_input": "2025-01-17T19:39:18.279504Z",
          "iopub.status.busy": "2025-01-17T19:39:18.279204Z",
          "iopub.status.idle": "2025-01-17T19:39:18.28479Z",
          "shell.execute_reply": "2025-01-17T19:39:18.283866Z",
          "shell.execute_reply.started": "2025-01-17T19:39:18.279481Z"
        },
        "id": "dzKpoqHxZPdN",
        "outputId": "10df707d-30d0-4a8f-df2c-c6647ec2d7fd",
        "trusted": true
      },
      "outputs": [
        {
          "data": {
            "text/plain": [
              "2155"
            ]
          },
          "execution_count": 74,
          "metadata": {},
          "output_type": "execute_result"
        }
      ],
      "source": [
        "word_index['marriage']"
      ]
    },
    {
      "cell_type": "code",
      "execution_count": 75,
      "metadata": {
        "colab": {
          "base_uri": "https://localhost:8080/"
        },
        "execution": {
          "iopub.execute_input": "2025-01-17T19:39:19.772656Z",
          "iopub.status.busy": "2025-01-17T19:39:19.772319Z",
          "iopub.status.idle": "2025-01-17T19:39:19.783035Z",
          "shell.execute_reply": "2025-01-17T19:39:19.781918Z",
          "shell.execute_reply.started": "2025-01-17T19:39:19.772628Z"
        },
        "id": "KBUOroytZPdN",
        "outputId": "d1a7613c-1d32-440f-dcdd-de77e9814132",
        "trusted": true
      },
      "outputs": [
        {
          "data": {
            "text/plain": [
              "array([[-1.32919997e-01,  1.69850007e-01, -1.43600002e-01,\n",
              "        -8.87219980e-02,  7.95100033e-02, -1.42120004e-01,\n",
              "        -2.42090002e-02, -2.62910008e-01, -7.48139992e-02,\n",
              "        -2.35999990e+00,  3.48300010e-01, -9.17219967e-02,\n",
              "        -5.39060012e-02,  3.04179996e-01, -1.32860005e-01,\n",
              "         5.03409980e-03, -1.50560006e-01,  2.35620001e-03,\n",
              "         6.83209971e-02,  3.42460006e-01,  3.98909986e-01,\n",
              "         5.88129997e-01,  6.06179982e-02, -1.98709995e-01,\n",
              "        -4.04650003e-01, -1.07060000e-01, -5.93119999e-03,\n",
              "        -6.48419976e-01,  1.90799996e-01, -1.76300004e-01,\n",
              "         9.24070030e-02,  3.86849999e-01, -3.10849994e-01,\n",
              "        -3.25740010e-01, -1.68229997e+00,  2.53360003e-01,\n",
              "        -2.46470004e-01, -1.08740002e-01,  7.64020020e-03,\n",
              "         3.38800013e-01, -5.97359985e-02, -8.59399974e-01,\n",
              "        -8.09639990e-02, -2.29809999e-01,  1.77090004e-01,\n",
              "         8.20939988e-02,  7.44159997e-01,  3.68730009e-01,\n",
              "         1.37400001e-01,  2.94079989e-01,  1.06470004e-01,\n",
              "        -1.32459998e-01,  1.21339999e-01, -1.42729998e-01,\n",
              "        -5.32700002e-01,  6.49360001e-01,  4.96569991e-01,\n",
              "         3.00289989e-01,  6.72259986e-01,  1.80050001e-01,\n",
              "         8.80500019e-01,  3.81439999e-02, -8.71400014e-02,\n",
              "         7.63999999e-01, -1.21069998e-01, -4.28090006e-01,\n",
              "        -1.25880003e-01,  8.83770001e-04,  1.05959997e-01,\n",
              "        -3.08019996e-01,  2.28870004e-01, -2.54680008e-01,\n",
              "        -3.64840001e-01,  7.45239973e-01, -1.52170002e-01,\n",
              "        -5.56190014e-02,  1.20490000e-01,  3.98759991e-01,\n",
              "        -2.19909996e-01, -1.84440002e-01, -9.03979987e-02,\n",
              "         1.40770003e-01,  1.28649998e+00, -4.09099996e-01,\n",
              "         2.79989988e-01,  4.20890003e-01, -7.06269979e-01,\n",
              "         7.90040016e-01,  1.38040006e-01,  3.02729994e-01,\n",
              "        -1.85340002e-01,  1.81209996e-01, -7.17320025e-01,\n",
              "        -5.42590022e-01, -2.25130003e-03,  3.04630011e-01,\n",
              "        -4.95880008e-01, -1.74620003e-01,  2.13350002e-02,\n",
              "        -2.13410005e-01, -8.23910013e-02, -3.76760006e-01,\n",
              "        -2.80010015e-01, -2.42379993e-01, -3.52490008e-01,\n",
              "        -2.41160005e-01,  2.97760010e-01,  3.70270014e-01,\n",
              "        -1.78220004e-01,  4.75369990e-01, -7.34840035e-02,\n",
              "        -2.97470003e-01, -3.63040008e-02, -8.49409997e-01,\n",
              "         4.51710001e-02,  2.87790000e-01, -1.75430000e-01,\n",
              "        -2.79249996e-01, -9.97890010e-02, -1.34930000e-01,\n",
              "        -7.81840011e-02, -3.55479985e-01,  2.16920003e-01,\n",
              "         2.58949995e-01,  2.60500014e-01, -4.31930006e-01,\n",
              "         1.20760001e-01,  2.84049988e-01,  1.56910002e-01,\n",
              "         2.13510007e-01,  5.73549986e-01, -4.75980014e-01,\n",
              "         4.57580015e-02,  6.59070015e-02, -2.41569996e-01,\n",
              "         1.57240003e-01, -3.96970004e-01, -8.72379988e-02,\n",
              "         1.11320000e-02,  4.63649988e-01, -4.30819988e-02,\n",
              "         5.63180029e-01,  5.24479985e-01,  3.87230009e-01,\n",
              "        -4.48929995e-01, -3.66170006e-03, -1.40070006e-01,\n",
              "         2.99629997e-02, -1.41680002e-01,  5.15469983e-02,\n",
              "        -7.62660027e-01, -8.07190016e-02, -1.08269997e-01,\n",
              "         2.03450006e-02, -1.45940006e-01,  1.37810007e-01,\n",
              "         3.52169991e-01, -1.94250003e-01,  4.73760009e-01,\n",
              "        -2.79500008e-01, -8.31589997e-02, -6.13860011e-01,\n",
              "        -3.43100011e-01, -9.98139977e-02, -2.40540002e-02,\n",
              "         2.05290005e-01, -2.22440008e-02,  5.91019988e-01,\n",
              "         1.70019999e-01,  5.25260009e-02, -1.91440001e-01,\n",
              "         1.21140003e-01, -5.06910026e-01, -5.19869983e-01,\n",
              "         5.47600016e-02,  1.50220007e-01,  9.26119983e-02,\n",
              "         3.45479995e-01,  3.56029987e-01,  2.34229997e-01,\n",
              "         1.34519994e-01,  1.54860001e-02,  1.72659993e-01,\n",
              "        -1.84540004e-01, -9.86820012e-02, -2.18030006e-01,\n",
              "        -1.57859996e-01,  7.04949975e-01,  3.67980003e-01,\n",
              "         2.67639995e-01, -1.43519998e-01, -5.43729998e-02,\n",
              "         4.33259994e-01, -1.63320005e-01,  2.16579996e-02,\n",
              "        -5.34080029e-01, -2.55479999e-02,  4.15340006e-01,\n",
              "        -1.62340000e-01, -4.02429998e-01,  2.00049996e+00,\n",
              "        -1.30840003e-01,  1.18239999e-01,  1.80549994e-01,\n",
              "         3.18109989e-01,  1.55080006e-01,  3.66859995e-02,\n",
              "         3.07469994e-01,  1.95199996e-01, -4.43090014e-02,\n",
              "        -6.58749998e-01,  1.86039999e-01, -1.62450001e-01,\n",
              "         4.02569994e-02, -5.39550006e-01, -1.21229999e-02,\n",
              "        -3.05789988e-03,  1.79450009e-02,  1.45030007e-01,\n",
              "        -3.56400013e-01,  4.38879997e-01, -1.14529997e-01,\n",
              "        -1.51610002e-01,  2.46639997e-01,  4.34320003e-01,\n",
              "         3.12830001e-01,  4.29190010e-01, -1.24930002e-01,\n",
              "        -1.17670000e-01, -2.20560003e-04, -3.58810008e-01,\n",
              "        -6.77779987e-02,  2.14440003e-01, -7.91710019e-01,\n",
              "        -1.10050000e-01,  3.09399992e-01, -3.01790005e-03,\n",
              "         1.33540004e-01, -2.04359993e-01, -1.63330004e-01,\n",
              "        -4.85769995e-02, -5.15130013e-02,  3.13180014e-02,\n",
              "         3.69540006e-01, -4.74480018e-02, -7.64160007e-02,\n",
              "        -7.89859987e-05, -7.25279972e-02, -8.48750025e-02,\n",
              "        -1.40129998e-01,  2.01470003e-01, -2.75160015e-01,\n",
              "        -4.89579998e-02,  3.11839998e-01,  7.18490005e-01,\n",
              "         3.05940002e-01,  4.70189989e-01, -2.83679992e-01,\n",
              "         1.00730002e-01, -4.18660015e-01,  1.76550001e-01,\n",
              "        -1.23930000e-01, -4.72470000e-02, -8.92210007e-02,\n",
              "         6.80690035e-02,  1.48059996e-02, -2.83569992e-01,\n",
              "        -2.53580004e-01,  1.32039994e-01,  6.98090017e-01,\n",
              "        -8.40200037e-02, -4.22230005e-01,  5.59610009e-01,\n",
              "         3.99539992e-02,  5.89680001e-02, -1.91019997e-01,\n",
              "        -2.20689988e+00,  8.15259963e-02,  2.52889991e-01,\n",
              "        -2.23670006e-01, -3.01420003e-01, -2.84669995e-01,\n",
              "        -8.77590030e-02, -3.96719992e-01, -2.43180007e-01,\n",
              "         1.41440004e-01, -1.23109996e-01,  6.39529992e-03,\n",
              "        -3.47609997e-01, -4.65310007e-01, -1.06150005e-03,\n",
              "        -3.92910004e-01, -1.77800000e-01, -1.21749997e-01,\n",
              "         2.43349999e-01, -7.78349996e-01,  3.95980000e-01,\n",
              "        -2.37780005e-01,  1.47660002e-01,  6.29019976e-01],\n",
              "       [ 3.84659991e-02, -3.97920012e-02,  8.27469975e-02,\n",
              "        -3.89230013e-01, -2.14310005e-01,  1.70200005e-01,\n",
              "        -2.56570000e-02,  9.57800001e-02,  2.38600001e-01,\n",
              "        -1.63419998e+00,  1.43319994e-01, -3.79579999e-02,\n",
              "        -1.95829999e-02,  3.84939998e-01,  9.73189995e-02,\n",
              "         2.96970010e-01, -3.45230013e-01,  1.17420003e-01,\n",
              "        -2.41889991e-02,  1.60129994e-01,  9.82400030e-02,\n",
              "         1.28110006e-01, -1.74820006e-01,  2.09759995e-01,\n",
              "        -2.23619998e-01, -2.06560001e-01,  2.44279996e-01,\n",
              "         6.68750033e-02, -1.25939995e-01, -1.57060008e-02,\n",
              "         6.49859980e-02,  4.75400001e-01, -5.54049984e-02,\n",
              "         5.42859972e-01, -7.51879990e-01, -8.32180008e-02,\n",
              "         1.78959996e-01,  7.30839968e-02, -3.03299993e-01,\n",
              "        -1.74160004e-01, -1.71470001e-01, -1.19199999e-01,\n",
              "         3.83079983e-02, -2.06599995e-01,  8.86790007e-02,\n",
              "        -5.59929982e-02,  3.61000001e-01,  3.86579990e-01,\n",
              "        -5.54339997e-02,  9.76990014e-02,  3.68600011e-01,\n",
              "        -3.26000005e-01,  1.30229995e-01, -2.98970014e-01,\n",
              "        -2.47089997e-01,  5.18690012e-02,  3.04220002e-02,\n",
              "         1.85859993e-01, -4.61170003e-02, -1.47650003e-01,\n",
              "         3.58949989e-01,  1.00939997e-01, -8.78219977e-02,\n",
              "        -1.75139993e-01, -2.54029989e-01, -3.58550012e-01,\n",
              "         1.58010006e-01, -2.70739999e-02,  1.25650004e-01,\n",
              "        -1.75090000e-01, -1.31259993e-01, -1.39160007e-01,\n",
              "         5.36280014e-02, -4.94289994e-02,  5.19380011e-02,\n",
              "        -4.86840010e-02,  7.17189983e-02,  8.09520036e-02,\n",
              "        -2.00179994e-01, -1.08709998e-01, -2.67069995e-01,\n",
              "        -3.57270002e-01,  3.71199995e-01,  1.67089999e-02,\n",
              "        -3.49589996e-02, -4.77109998e-02,  2.48269993e-03,\n",
              "         1.08470000e-01,  8.90529994e-03, -1.48739994e-01,\n",
              "         4.60139997e-02,  4.27020013e-01, -2.46840000e-01,\n",
              "         1.21930003e-01, -2.75790006e-01,  2.58439988e-01,\n",
              "        -2.09910005e-01, -8.66670012e-02,  1.47670001e-01,\n",
              "        -1.74410000e-01,  1.70540005e-01, -3.08679998e-01,\n",
              "        -8.79700035e-02, -1.71949998e-01, -1.17430001e-01,\n",
              "         1.21459998e-01,  6.92680031e-02,  1.33110002e-01,\n",
              "        -1.35649994e-01, -2.48549998e-01, -2.63929996e-03,\n",
              "        -7.11690009e-01, -3.25940013e-01, -3.63970011e-01,\n",
              "         5.33309989e-02,  3.57140005e-01, -3.00350010e-01,\n",
              "         4.15830016e-02, -1.19960003e-01, -2.36799996e-02,\n",
              "         1.67280007e-02,  1.58690006e-01, -1.64910004e-01,\n",
              "        -2.78200001e-01, -1.37879997e-01,  1.01779997e-01,\n",
              "        -2.41769999e-01,  9.63469967e-02,  2.36699998e-01,\n",
              "         2.08849996e-01, -2.88670003e-01,  1.07720003e-01,\n",
              "         1.55619994e-01, -1.22840004e-02, -2.21609995e-01,\n",
              "        -1.01700000e-01,  1.25699997e-01, -2.95789987e-01,\n",
              "        -8.96039978e-03,  3.50749999e-01,  2.00880002e-02,\n",
              "         2.03890000e-02,  3.88840004e-03,  3.18690002e-01,\n",
              "        -1.98479995e-01,  6.04580007e-02,  2.81480014e-01,\n",
              "        -2.34990001e-01, -1.70350000e-01, -2.23230004e-01,\n",
              "         5.79750001e-01,  2.64640003e-01, -1.01240002e-01,\n",
              "         8.10580030e-02,  1.40290007e-01,  6.64310008e-02,\n",
              "        -1.22120000e-01,  4.00339998e-02,  2.75480002e-02,\n",
              "        -1.47599995e-01,  3.14379990e-01, -2.30460003e-01,\n",
              "         2.64499992e-01, -1.09449998e-01, -3.90329987e-01,\n",
              "         1.26599997e-01, -3.09510008e-02,  6.73889965e-02,\n",
              "         1.68070003e-01,  2.23729998e-01,  1.35020003e-01,\n",
              "         3.82349998e-01, -5.28069973e-01,  5.40130019e-01,\n",
              "        -4.30620015e-02,  9.32110026e-02,  4.52109985e-02,\n",
              "        -2.42909998e-01, -4.97810006e-01,  2.64250010e-01,\n",
              "         2.63999999e-02,  1.43470004e-01,  1.17629997e-01,\n",
              "        -1.16140004e-02,  9.79320034e-02, -2.66319990e-01,\n",
              "        -2.21430004e-01,  2.51560003e-01,  8.12800005e-02,\n",
              "         1.09370001e-01, -1.21990003e-01,  1.92549992e-02,\n",
              "        -3.34630013e-01, -1.81810006e-01,  6.47239983e-02,\n",
              "         2.29210004e-01, -3.24250013e-02, -2.72949994e-01,\n",
              "         3.19830000e-01,  1.61339998e-01,  9.36919987e-01,\n",
              "        -1.21399999e-01, -1.26170004e-02,  2.52739996e-01,\n",
              "         2.46150002e-01,  1.32139996e-01,  1.60919994e-01,\n",
              "         2.05760002e-01, -5.15669994e-02, -3.78399998e-01,\n",
              "         1.97610006e-01,  1.69929996e-01, -8.71509984e-02,\n",
              "         2.69220006e-02,  3.80349994e-01,  8.33489969e-02,\n",
              "         2.47150004e-01, -1.09399997e-01,  1.54589996e-01,\n",
              "        -5.17410003e-02,  1.66040003e-01, -2.13349998e-01,\n",
              "        -3.07439994e-02, -1.45740002e-01, -5.04620016e-01,\n",
              "         3.48250002e-01, -1.23429999e-01,  1.77330002e-01,\n",
              "         2.85699993e-01, -3.04670006e-01, -1.50950000e-01,\n",
              "         3.03460002e-01, -1.56780005e-01,  6.48040026e-02,\n",
              "        -7.30080009e-02,  2.64990002e-01,  1.63120002e-01,\n",
              "         1.18890002e-01, -6.39379978e-01,  1.55980006e-01,\n",
              "        -2.36430004e-01,  5.96440017e-01,  3.87479991e-01,\n",
              "         3.35799992e-01, -5.86470008e-01,  1.25839993e-01,\n",
              "         3.61440003e-01, -3.36219996e-01,  3.81280005e-01,\n",
              "        -1.03479996e-01,  1.88250005e-01, -3.36860001e-01,\n",
              "         5.81779983e-03, -1.34499997e-01,  5.55109978e-01,\n",
              "        -5.64429983e-02,  1.50940001e-01, -2.84379989e-01,\n",
              "         2.54880004e-02,  2.03920007e-01,  5.27120009e-02,\n",
              "        -4.57190007e-01,  8.92670006e-02,  9.54689980e-02,\n",
              "        -1.90219998e-01, -1.71010002e-01, -3.75990003e-01,\n",
              "        -1.81999996e-01, -6.56049997e-02, -6.13880008e-02,\n",
              "        -1.94670007e-01, -7.03679994e-02, -2.39769995e-01,\n",
              "         3.92529994e-01, -2.12830007e-01,  1.72209993e-01,\n",
              "        -1.86699998e+00, -2.26089999e-01,  5.39759994e-01,\n",
              "        -3.35799992e-01, -4.85870004e-01, -5.02460003e-02,\n",
              "         3.16940010e-01, -1.55359998e-01,  1.22440003e-01,\n",
              "         3.83560002e-01, -1.38899997e-01,  4.18859988e-01,\n",
              "         2.36640006e-01, -3.11129987e-01,  4.51940000e-02,\n",
              "        -2.04050004e-01, -2.10969999e-01, -1.10250004e-01,\n",
              "         2.17659995e-02,  4.41289991e-01,  3.27969998e-01,\n",
              "        -3.34270000e-01,  1.18070003e-02,  5.97029999e-02]])"
            ]
          },
          "execution_count": 75,
          "metadata": {},
          "output_type": "execute_result"
        }
      ],
      "source": [
        "embedding_matrix[1:3]"
      ]
    },
    {
      "cell_type": "markdown",
      "metadata": {
        "execution": {
          "iopub.execute_input": "2025-01-03T14:57:10.224663Z",
          "iopub.status.busy": "2025-01-03T14:57:10.224286Z",
          "iopub.status.idle": "2025-01-03T14:57:10.229052Z",
          "shell.execute_reply": "2025-01-03T14:57:10.227852Z",
          "shell.execute_reply.started": "2025-01-03T14:57:10.224633Z"
        },
        "id": "iALeTYqwZPdN"
      },
      "source": [
        "#### Now our embedding matrix is created and now we will use this embedding matrix in our deep learning\n",
        "#### model to understand the context better and hence we should be good to classify the review\n",
        "#### and map them to relevant condition/label."
      ]
    },
    {
      "cell_type": "markdown",
      "metadata": {
        "id": "cBHrnJ3WZPdN"
      },
      "source": [
        "## PyTorch Model - BiLSTM"
      ]
    },
    {
      "cell_type": "markdown",
      "metadata": {
        "id": "uKYl3oKLZPdN"
      },
      "source": [
        "#### Helpful Links\n",
        "Understanding Number Of Parameters: https://youtu.be/B08baRr2LlY <br>\n",
        "requires_grad: https://pytorch.org/docs/stable/generated/torch.Tensor.requires_grad_.html <br>\n",
        "nn.LSTM: https://pytorch.org/docs/stable/generated/torch.nn.LSTM.html\n",
        "<br> Cross Entropy Loss Function: https://www.datacamp.com/tutorial/the-cross-entropy-loss-function-in-machine-learning <br>\n",
        "Cross Entropy Pytorch: https://pytorch.org/docs/stable/generated/torch.nn.CrossEntropyLoss.html <br>\n",
        "Optimizer.step() function : https://discuss.pytorch.org/t/how-are-optimizer-step-and-loss-backward-related/7350 <br>\n",
        "Tensor.detach() : https://www.geeksforgeeks.org/tensor-detach-method-in-python-pytorch/ <br>\n",
        "Softmax Activation function: https://www.analyticsvidhya.com/blog/2021/04/introduction-to-softmax-for-neural-network/"
      ]
    },
    {
      "cell_type": "code",
      "execution_count": 76,
      "metadata": {},
      "outputs": [
        {
          "name": "stdout",
          "output_type": "stream",
          "text": [
            "Looking in indexes: https://download.pytorch.org/whl/cu121\n",
            "Requirement already satisfied: torch in c:\\users\\jayap\\appdata\\local\\programs\\python\\python312\\lib\\site-packages (2.5.1+cu121)\n",
            "Requirement already satisfied: filelock in c:\\users\\jayap\\appdata\\local\\programs\\python\\python312\\lib\\site-packages (from torch) (3.18.0)\n",
            "Requirement already satisfied: typing-extensions>=4.8.0 in c:\\users\\jayap\\appdata\\local\\programs\\python\\python312\\lib\\site-packages (from torch) (4.13.0)\n",
            "Requirement already satisfied: networkx in c:\\users\\jayap\\appdata\\local\\programs\\python\\python312\\lib\\site-packages (from torch) (3.4.2)\n",
            "Requirement already satisfied: jinja2 in c:\\users\\jayap\\appdata\\local\\programs\\python\\python312\\lib\\site-packages (from torch) (3.1.6)\n",
            "Requirement already satisfied: fsspec in c:\\users\\jayap\\appdata\\local\\programs\\python\\python312\\lib\\site-packages (from torch) (2025.3.1)\n",
            "Requirement already satisfied: setuptools in c:\\users\\jayap\\appdata\\local\\programs\\python\\python312\\lib\\site-packages (from torch) (65.5.0)\n",
            "Requirement already satisfied: sympy==1.13.1 in c:\\users\\jayap\\appdata\\local\\programs\\python\\python312\\lib\\site-packages (from torch) (1.13.1)\n",
            "Requirement already satisfied: mpmath<1.4,>=1.1.0 in c:\\users\\jayap\\appdata\\local\\programs\\python\\python312\\lib\\site-packages (from sympy==1.13.1->torch) (1.3.0)\n",
            "Requirement already satisfied: MarkupSafe>=2.0 in c:\\users\\jayap\\appdata\\local\\programs\\python\\python312\\lib\\site-packages (from jinja2->torch) (3.0.2)\n",
            "Note: you may need to restart the kernel to use updated packages.\n"
          ]
        }
      ],
      "source": [
        "pip install torch --index-url https://download.pytorch.org/whl/cu121"
      ]
    },
    {
      "cell_type": "code",
      "execution_count": 77,
      "metadata": {},
      "outputs": [
        {
          "name": "stdout",
          "output_type": "stream",
          "text": [
            "PyTorch Version: 2.5.1+cu121\n",
            "CUDA Available: True\n",
            "GPU Name: NVIDIA GeForce RTX 2050\n"
          ]
        }
      ],
      "source": [
        "import torch\n",
        "print(f\"PyTorch Version: {torch.__version__}\")\n",
        "print(f\"CUDA Available: {torch.cuda.is_available()}\")\n",
        "print(f\"GPU Name: {torch.cuda.get_device_name(0)}\")"
      ]
    },
    {
      "cell_type": "code",
      "execution_count": 78,
      "metadata": {},
      "outputs": [
        {
          "name": "stdout",
          "output_type": "stream",
          "text": [
            "Embedding matrix shape: (51647, 300)\n"
          ]
        }
      ],
      "source": [
        "print(\"Embedding matrix shape:\", embedding_matrix.shape)"
      ]
    },
    {
      "cell_type": "code",
      "execution_count": 82,
      "metadata": {
        "execution": {
          "iopub.execute_input": "2025-01-17T19:44:31.491219Z",
          "iopub.status.busy": "2025-01-17T19:44:31.490819Z",
          "iopub.status.idle": "2025-01-17T19:44:31.498646Z",
          "shell.execute_reply": "2025-01-17T19:44:31.497589Z",
          "shell.execute_reply.started": "2025-01-17T19:44:31.491185Z"
        },
        "id": "jl7jQlYyZPdN",
        "trusted": true
      },
      "outputs": [],
      "source": [
        "# Imports Required\n",
        "import torch\n",
        "import torch.nn as nn\n",
        "import torch.nn.functional as F\n",
        "\n",
        "class BiLSTM(nn.Module):\n",
        "    def __init__(self, embedding_matrix):\n",
        "        super(BiLSTM, self).__init__()\n",
        "        \n",
        "        # Model parameters\n",
        "        self.hidden_size = 64\n",
        "        dropout = 0.1\n",
        "        n_classes = len(le.classes_)  # Ensure LabelEncoder is fitted before this point\n",
        "\n",
        "        # Create embedding layer with pre-trained weights\n",
        "        self.embedding = nn.Embedding(embedding_matrix.shape[0], embedding_matrix.shape[1])\n",
        "        self.embedding.weight = nn.Parameter(embedding_matrix)\n",
        "        self.embedding.weight.requires_grad = False  # Freeze embedding layer\n",
        "\n",
        "        # LSTM Layer\n",
        "        self.lstm = nn.LSTM(\n",
        "            input_size=embedding_matrix.shape[1],\n",
        "            hidden_size=self.hidden_size,\n",
        "            bidirectional=True,\n",
        "            batch_first=True\n",
        "        )\n",
        "\n",
        "        # Fully connected layers\n",
        "        self.linear = nn.Linear(self.hidden_size * 4, 64)\n",
        "        self.relu = nn.ReLU()\n",
        "        self.dropout = nn.Dropout(dropout)\n",
        "        self.out = nn.Linear(64, n_classes)\n",
        "\n",
        "    def forward(self, x):\n",
        "        h_embedding = self.embedding(x)\n",
        "        h_lstm, _ = self.lstm(h_embedding)\n",
        "\n",
        "        # Pooling operations\n",
        "        avg_pool = torch.mean(h_lstm, 1)\n",
        "        max_pool, _ = torch.max(h_lstm, 1)\n",
        "\n",
        "        # Concatenate pooling outputs\n",
        "        conc = torch.cat((avg_pool, max_pool), 1)\n",
        "        conc = self.relu(self.linear(conc))\n",
        "        conc = self.dropout(conc)\n",
        "        out = self.out(conc)\n",
        "\n",
        "        return out"
      ]
    },
    {
      "cell_type": "markdown",
      "metadata": {
        "id": "IuaNjUWiZPdN"
      },
      "source": [
        "The `forward` function in PyTorch defines how the input data flows through the neural network layers. It does not overwrite a default function but implements the custom behavior of the model, specifying the sequence of operations for processing input data. In PyTorch, the `nn.Module` class provides a base implementation for neural network modules, and it requires the user to define a `forward` method for their specific model.\n",
        "\n",
        "### Why is the `forward` function written?\n",
        "1. **Customizing the Model's Forward Pass**:\n",
        "   - In the `BiLSTM` class, the `forward` function explicitly defines how input data `x` is processed through the model.\n",
        "   - It includes operations like embedding lookup, passing data through an LSTM layer, pooling (mean and max), concatenation, and applying activation functions, dropout, and fully connected layers.\n",
        "\n",
        "2. **Designing Model-Specific Computations**:\n",
        "   - While the `__init__` method defines the layers and their parameters, the `forward` method specifies how these layers are used to process data.\n",
        "   - The `forward` function allows you to design specific computational flows unique to your model's requirements.\n",
        "\n",
        "### Why doesn't it overwrite a default function?\n",
        "- The `forward` method does not replace any existing behavior because the base `nn.Module` class does not implement a specific `forward` method for you. Instead, it provides a framework where you must define it to make the module functional.\n",
        "- When you call the model object (e.g., `model(x)`), PyTorch internally calls the `forward` method of your class. This behavior is implemented in the `__call__` method of the `nn.Module` class.\n",
        "\n",
        "### Example Workflow\n",
        "When you pass data through the model:\n",
        "```python\n",
        "model = BiLSTM()\n",
        "output = model(input_data)\n",
        "```\n",
        "The `__call__` method of `nn.Module` is triggered, which then calls your custom `forward` method. This makes the flow seamless and modular, allowing you to focus on defining your model's logic.\n",
        "\n",
        "### Key Points About the `forward` Function\n",
        "- It encapsulates the sequence of operations applied to the input tensor.\n",
        "- It is flexible and can include any PyTorch operations, custom logic, or even non-linear execution flows like loops and conditionals.\n",
        "- While PyTorch does provide prebuilt layers and operations, the `forward` method ensures you can chain them together in a way that suits your specific problem.\n",
        "\n",
        "So, the `forward` method is not overwriting a default function but is instead a required implementation in PyTorch's design to define how data flows through your custom model."
      ]
    },
    {
      "cell_type": "markdown",
      "metadata": {
        "id": "CKMGDvC8ZPdN"
      },
      "source": [
        "You typically **do not** call the `forward()` function explicitly in your code. Instead, you call the model object directly, and PyTorch internally invokes the `forward()` method for you.\n",
        "\n",
        "Here's how it works:\n",
        "\n",
        "### Example\n",
        "Suppose you have a `BiLSTM` model and some input data `x`:\n",
        "```python\n",
        "model = BiLSTM()  # Instantiate the model\n",
        "output = model(x)  # Call the model directly\n",
        "```\n",
        "\n",
        "When you call `model(x)`, PyTorch's `__call__()` method in `nn.Module` is triggered, which does the following:\n",
        "1. Performs pre-processing tasks (e.g., hooks or layer initializations, if any).\n",
        "2. Calls your `forward()` method.\n",
        "3. Handles post-processing tasks (if required).\n",
        "\n",
        "This design makes the code more elegant and ensures compatibility with PyTorch's ecosystem, such as:\n",
        "- **Training loops**: Works seamlessly with `loss.backward()` and `optimizer.step()`.\n",
        "- **Hooks**: Allows attaching hooks to monitor or modify input/output during the forward and backward passes.\n",
        "- **Model extensions**: Works well with advanced features like distributed training or quantization.\n",
        "\n",
        "### When Might You Explicitly Call `forward()`?\n",
        "While it’s rare, you **can** call `model.forward(x)` directly if you want to bypass the additional functionality provided by `__call__()`. However, this is discouraged because:\n",
        "- It skips any hooks or extra functionality PyTorch provides.\n",
        "- It can make your code less consistent with standard PyTorch practices.\n",
        "\n",
        "### Key Takeaway\n",
        "You **don’t need to use `forward()` explicitly** in typical scenarios. Just call the model object, and PyTorch will handle the rest. The `forward()` method is where you define the logic of your model, but you interact with it through the model's `__call__()` interface."
      ]
    },
    {
      "cell_type": "markdown",
      "metadata": {
        "id": "UWmVHXdkZPdO"
      },
      "source": [
        "# Forward Function Description\n",
        "Let’s break down the `forward` function step by step to understand what it does:\n",
        "\n",
        "### Code Breakdown\n",
        "\n",
        "```python\n",
        "def forward(self, x):\n",
        "    h_embedding = self.embedding(x)\n",
        "```\n",
        "- **Purpose**: Converts input indices `x` into dense vector representations using the `embedding` layer.\n",
        "- **Input**: `x` is a tensor of token indices (e.g., word indices for text).\n",
        "- **Output**: `h_embedding`, a tensor of shape `(batch_size, sequence_length, embed_size)`, where each index in the sequence is mapped to an `embed_size` dimensional vector.\n",
        "\n",
        "---\n",
        "\n",
        "```python\n",
        "h_lstm = self.lstm(h_embedding)\n",
        "```\n",
        "- **Purpose**: Passes the embedding tensor through an LSTM layer.\n",
        "- **Input**: `h_embedding` from the previous step.\n",
        "- **Output**:\n",
        "  - `h_lstm`: Contains the hidden states for all time steps of the LSTM. Shape: `(batch_size, sequence_length, 2 * hidden_size)` because the LSTM is bidirectional (concatenating outputs from both directions).\n",
        "\n",
        "---\n",
        "\n",
        "```python\n",
        "avg_pool = torch.mean(h_lstm, 1)\n",
        "```\n",
        "- **Purpose**: Applies average pooling across the sequence dimension (`dim=1`), reducing it to a single vector.\n",
        "- **Output**: `avg_pool`, a tensor of shape `(batch_size, 2 * hidden_size)` that represents the average information across all time steps.\n",
        "\n",
        "---\n",
        "\n",
        "```python\n",
        "max_pool, _ = torch.max(h_lstm, 1)\n",
        "```\n",
        "- **Purpose**: Applies max pooling across the sequence dimension (`dim=1`), selecting the maximum value for each feature.\n",
        "- **Output**: `max_pool`, a tensor of shape `(batch_size, 2 * hidden_size)`.\n",
        "\n",
        "---\n",
        "\n",
        "```python\n",
        "conc = torch.cat((avg_pool, max_pool), 1)\n",
        "```\n",
        "- **Purpose**: Concatenates the results of average pooling and max pooling along the feature dimension (`dim=1`).\n",
        "- **Output**: `conc`, a tensor of shape `(batch_size, 4 * hidden_size)` because it combines two `(batch_size, 2 * hidden_size)` tensors.\n",
        "\n",
        "---\n",
        "\n",
        "```python\n",
        "conc = self.relu(self.linear(conc))\n",
        "```\n",
        "- **Purpose**:\n",
        "  - Passes the concatenated tensor through a fully connected (linear) layer to reduce the feature size from `4 * hidden_size` to `64`.\n",
        "  - Applies a ReLU activation to introduce non-linearity.\n",
        "- **Output**: `conc`, a tensor of shape `(batch_size, 64)`.\n",
        "\n",
        "---\n",
        "\n",
        "```python\n",
        "conc = self.dropout(conc)\n",
        "```\n",
        "- **Purpose**: Applies dropout to `conc` to reduce overfitting during training by randomly setting a fraction of the features to zero.\n",
        "- **Output**: `conc`, a tensor of shape `(batch_size, 64)` with some elements randomly zeroed out during training.\n",
        "\n",
        "---\n",
        "\n",
        "```python\n",
        "out = self.out(conc)\n",
        "```\n",
        "- **Purpose**: Passes the tensor through the final fully connected layer (`self.out`) to map it to the number of output classes.\n",
        "- **Output**: `out`, a tensor of shape `(batch_size, n_classes)`, where `n_classes` is the number of classes in the classification task.\n",
        "\n",
        "---\n",
        "\n",
        "```python\n",
        "return out\n",
        "```\n",
        "- **Purpose**: Returns the final output, which represents the predicted scores (logits) for each class.\n",
        "\n",
        "---\n",
        "\n",
        "### Summary of the Flow\n",
        "1. **Input**: A tensor of token indices `x`.\n",
        "2. **Embedding**: Convert indices to dense vectors using `nn.Embedding`.\n",
        "3. **LSTM**: Pass the embeddings through a bidirectional LSTM.\n",
        "4. **Pooling**: Compute average pooling and max pooling across the sequence dimension.\n",
        "5. **Concatenation**: Combine the pooled results into a single tensor.\n",
        "6. **Linear Transformation**: Reduce dimensionality and apply non-linearity using a fully connected layer and ReLU.\n",
        "7. **Dropout**: Apply dropout to reduce overfitting.\n",
        "8. **Output Layer**: Map the processed features to the number of classes.\n",
        "\n",
        "This function models a text classification pipeline, where the input text sequence is transformed into a final prediction for classification tasks."
      ]
    },
    {
      "cell_type": "code",
      "execution_count": 80,
      "metadata": {
        "execution": {
          "execution_failed": "2025-01-17T18:27:51.911Z"
        },
        "id": "WVgeHbohZPdO",
        "trusted": true
      },
      "outputs": [],
      "source": [
        "# embed_size = 300 # how big is each word vector\n",
        "# max_features = 120000 # how many unique words to use (i.e num rows in embedding vector)\n",
        "# maxlen = 750 # max number of words in a question to use\n",
        "# batch_size = 512 # how many samples to process at once\n",
        "# n_epochs = 5 # how many times to iterate over all samples\n",
        "# n_splits = 5 # Number of K-fold Splits\n",
        "# SEED = 10\n",
        "# debug = 0"
      ]
    },
    {
      "cell_type": "markdown",
      "metadata": {
        "id": "PvEq5FO4ZPdO"
      },
      "source": [
        "In PyTorch, the optimizer.zero_grad() method is used to clear out the gradients of all parameters that the optimizer is tracking. When we train a neural network, we typically use a technique called backpropagation to compute the gradients of the loss with respect to the model parameters. These gradients are used to update the parameters via the optimizer’s update rule.\n",
        "\n",
        "Now, why do we need to zero out the gradients before computing the gradients of the current minibatch? When we call the backward() method on the loss tensor, the gradients computed by PyTorch accumulate (i.e., they are added to the existing gradients) for each parameter during each iteration. This is useful when we want to accumulate gradients across multiple batches, but it can lead to incorrect gradient computations when we only want to compute the gradients for a single batch. Therefore, before calling backward() for a new minibatch, we need to zero out the gradients from the previous minibatch. Otherwise, we would be using stale gradients from previous minibatches, which could lead to incorrect parameter updates.\n",
        "\n",
        "To summarize, if we didn’t call optimizer.zero_grad(), the gradients would accumulate across all minibatches, leading to incorrect gradient computations and ultimately poor model performance. It is essential to zero out the gradients before computing the gradients for each minibatch to ensure accurate and timely parameter updates."
      ]
    },
    {
      "cell_type": "code",
      "execution_count": null,
      "metadata": {
        "colab": {
          "base_uri": "https://localhost:8080/"
        },
        "execution": {
          "iopub.execute_input": "2025-01-17T19:44:48.387791Z",
          "iopub.status.busy": "2025-01-17T19:44:48.387482Z",
          "iopub.status.idle": "2025-01-17T19:50:15.98689Z",
          "shell.execute_reply": "2025-01-17T19:50:15.985879Z",
          "shell.execute_reply.started": "2025-01-17T19:44:48.387768Z"
        },
        "id": "l8tkRUUoZPdO",
        "outputId": "a144370e-7582-4aff-83be-680718c10c3c",
        "trusted": true
      },
      "outputs": [
        {
          "name": "stderr",
          "output_type": "stream",
          "text": [
            "C:\\Users\\jayap\\AppData\\Local\\Temp\\ipykernel_15620\\615030634.py:31: FutureWarning: `torch.cuda.amp.GradScaler(args...)` is deprecated. Please use `torch.amp.GradScaler('cuda', args...)` instead.\n",
            "  scaler = torch.cuda.amp.GradScaler()\n",
            "C:\\Users\\jayap\\AppData\\Local\\Temp\\ipykernel_15620\\615030634.py:48: FutureWarning: `torch.cuda.amp.autocast(args...)` is deprecated. Please use `torch.amp.autocast('cuda', args...)` instead.\n",
            "  with torch.cuda.amp.autocast():\n",
            "C:\\Users\\jayap\\AppData\\Local\\Temp\\ipykernel_15620\\615030634.py:70: FutureWarning: `torch.cuda.amp.autocast(args...)` is deprecated. Please use `torch.amp.autocast('cuda', args...)` instead.\n",
            "  with torch.cuda.amp.autocast():\n"
          ]
        },
        {
          "name": "stdout",
          "output_type": "stream",
          "text": [
            "Epoch 1/10 loss=1.0000 val_loss=0.5299 val_acc=0.8175 time=38.39s\n",
            "Epoch 2/10 loss=0.4843 val_loss=0.4578 val_acc=0.8375 time=37.53s\n",
            "Epoch 3/10 loss=0.4140 val_loss=0.4207 val_acc=0.8494 time=36.77s\n",
            "Epoch 4/10 loss=0.3681 val_loss=0.3972 val_acc=0.8605 time=37.18s\n",
            "Epoch 5/10 loss=0.3325 val_loss=0.3835 val_acc=0.8641 time=36.77s\n",
            "Epoch 6/10 loss=0.3004 val_loss=0.3877 val_acc=0.8641 time=37.05s\n",
            "Epoch 7/10 loss=0.2715 val_loss=0.3683 val_acc=0.8719 time=36.56s\n",
            "Epoch 8/10 loss=0.2439 val_loss=0.3621 val_acc=0.8773 time=38.88s\n",
            "Epoch 9/10 loss=0.2190 val_loss=0.3570 val_acc=0.8809 time=36.24s\n",
            "Epoch 10/10 loss=0.1964 val_loss=0.3536 val_acc=0.8868 time=36.28s\n",
            "\n",
            "✅ Training complete. If you still encounter OOM issues:\n",
            "- Try smaller batch sizes.\n",
            "- Set `PYTORCH_CUDA_ALLOC_CONF=expandable_segments:True` in your terminal.\n",
            "- Monitor GPU memory with `nvidia-smi`.\n"
          ]
        }
      ],
      "source": [
        "# --- Training Configuration ---\n",
        "import time\n",
        "import torch\n",
        "import torch.nn.functional as F\n",
        "import numpy as np\n",
        "\n",
        "# Hyperparameters\n",
        "n_epochs = 10\n",
        "batch_size = 128  # Reduced batch size to avoid OOM\n",
        "learning_rate = 0.001\n",
        "\n",
        "# Load data to GPU\n",
        "X_train = torch.as_tensor(X_train, dtype=torch.long).to(device)\n",
        "y_train = torch.as_tensor(y_train, dtype=torch.long).to(device)\n",
        "X_test = torch.as_tensor(X_test, dtype=torch.long).to(device)\n",
        "y_test = torch.as_tensor(y_test, dtype=torch.long).to(device)\n",
        "\n",
        "# Create datasets and loaders\n",
        "train_dataset = TensorDataset(X_train, y_train)\n",
        "test_dataset = TensorDataset(X_test, y_test)\n",
        "\n",
        "train_loader = DataLoader(train_dataset, batch_size=batch_size, shuffle=True)\n",
        "valid_loader = DataLoader(test_dataset, batch_size=batch_size, shuffle=False)\n",
        "\n",
        "# Initialize model, optimizer, and loss function\n",
        "model = BiLSTM(embedding_matrix).to(device)\n",
        "loss_fn = nn.CrossEntropyLoss()\n",
        "optimizer = torch.optim.Adam(filter(lambda p: p.requires_grad, model.parameters()), lr=learning_rate)\n",
        "\n",
        "# Enable mixed precision\n",
        "scaler = torch.cuda.amp.GradScaler()\n",
        "\n",
        "# --- Training Loop ---\n",
        "train_loss = []\n",
        "valid_loss = []\n",
        "\n",
        "for epoch in range(n_epochs):\n",
        "    start_time = time.time()\n",
        "    \n",
        "    # Training Phase\n",
        "    model.train()\n",
        "    avg_loss = 0\n",
        "\n",
        "    for i, (x_batch, y_batch) in enumerate(train_loader):\n",
        "        optimizer.zero_grad()\n",
        "\n",
        "        # Use mixed precision for memory optimization\n",
        "        with torch.cuda.amp.autocast():\n",
        "            y_pred = model(x_batch)\n",
        "            loss = loss_fn(y_pred, y_batch)\n",
        "\n",
        "        # Backpropagation\n",
        "        scaler.scale(loss).backward()\n",
        "        \n",
        "        # Clear cache to free memory\n",
        "        torch.cuda.empty_cache()\n",
        "\n",
        "        scaler.step(optimizer)\n",
        "        scaler.update()\n",
        "\n",
        "        avg_loss += loss.item() / len(train_loader)\n",
        "\n",
        "    # Validation Phase\n",
        "    model.eval()\n",
        "    avg_val_loss = 0\n",
        "    val_preds = np.zeros((len(X_test), len(y_test.unique())))\n",
        "\n",
        "    with torch.no_grad():\n",
        "        for i, (x_batch, y_batch) in enumerate(valid_loader):\n",
        "            with torch.cuda.amp.autocast():\n",
        "                y_pred = model(x_batch)\n",
        "                val_loss = loss_fn(y_pred, y_batch)\n",
        "                \n",
        "                avg_val_loss += val_loss.item() / len(valid_loader)\n",
        "\n",
        "                # Store predictions\n",
        "                val_preds[i * batch_size:(i + 1) * batch_size] = F.softmax(y_pred, dim=-1).cpu().numpy()\n",
        "\n",
        "    # Accuracy Calculation\n",
        "    val_accuracy = (val_preds.argmax(axis=1) == y_test.cpu().numpy()).mean()\n",
        "    \n",
        "    train_loss.append(avg_loss)\n",
        "    valid_loss.append(avg_val_loss)\n",
        "\n",
        "    elapsed_time = time.time() - start_time\n",
        "    print(f'Epoch {epoch + 1}/{n_epochs} '\n",
        "          f'loss={avg_loss:.4f} '\n",
        "          f'val_loss={avg_val_loss:.4f} '\n",
        "          f'val_acc={val_accuracy:.4f} '\n",
        "          f'time={elapsed_time:.2f}s')\n",
        "\n"
      ]
    },
    {
      "cell_type": "code",
      "execution_count": 85,
      "metadata": {
        "execution": {
          "iopub.execute_input": "2025-01-17T19:51:16.195409Z",
          "iopub.status.busy": "2025-01-17T19:51:16.195049Z",
          "iopub.status.idle": "2025-01-17T19:51:16.200915Z",
          "shell.execute_reply": "2025-01-17T19:51:16.199803Z",
          "shell.execute_reply.started": "2025-01-17T19:51:16.195382Z"
        },
        "id": "jLvniWmcZPdP",
        "trusted": true
      },
      "outputs": [],
      "source": [
        "def plot_graph(epochs):\n",
        "    fig = plt.figure(figsize=(12,12))\n",
        "    plt.title(\"Train/Validation Loss\")\n",
        "    plt.plot(list(np.arange(epochs) + 1) , train_loss, label='train')\n",
        "    plt.plot(list(np.arange(epochs) + 1), valid_loss, label='validation')\n",
        "    plt.xlabel('num_epochs', fontsize=12)\n",
        "    plt.ylabel('loss', fontsize=12)\n",
        "    plt.legend(loc='best')"
      ]
    },
    {
      "cell_type": "code",
      "execution_count": 86,
      "metadata": {
        "colab": {
          "base_uri": "https://localhost:8080/",
          "height": 879
        },
        "execution": {
          "iopub.execute_input": "2025-01-17T19:51:19.784125Z",
          "iopub.status.busy": "2025-01-17T19:51:19.783735Z",
          "iopub.status.idle": "2025-01-17T19:51:20.145027Z",
          "shell.execute_reply": "2025-01-17T19:51:20.144053Z",
          "shell.execute_reply.started": "2025-01-17T19:51:19.784093Z"
        },
        "id": "9OQFhI7pZPdP",
        "outputId": "0102708f-adba-437f-8a5d-62514a2cbe33",
        "trusted": true
      },
      "outputs": [
        {
          "data": {
            "image/png": "[encoded data removed]",
            "text/plain": [
              "<Figure size 1200x1200 with 1 Axes>"
            ]
          },
          "metadata": {},
          "output_type": "display_data"
        }
      ],
      "source": [
        "plot_graph(n_epochs)"
      ]
    },
    {
      "cell_type": "code",
      "execution_count": 87,
      "metadata": {
        "execution": {
          "iopub.execute_input": "2025-01-17T19:51:24.74175Z",
          "iopub.status.busy": "2025-01-17T19:51:24.741395Z",
          "iopub.status.idle": "2025-01-17T19:51:24.880338Z",
          "shell.execute_reply": "2025-01-17T19:51:24.879574Z",
          "shell.execute_reply.started": "2025-01-17T19:51:24.741719Z"
        },
        "id": "4-vExYq4ZPdP",
        "trusted": true
      },
      "outputs": [],
      "source": [
        "torch.save(model,'bilstm_model')"
      ]
    },
    {
      "cell_type": "markdown",
      "metadata": {
        "execution": {
          "iopub.execute_input": "2025-01-15T06:48:23.365999Z",
          "iopub.status.busy": "2025-01-15T06:48:23.365616Z",
          "iopub.status.idle": "2025-01-15T06:48:23.369865Z",
          "shell.execute_reply": "2025-01-15T06:48:23.368866Z",
          "shell.execute_reply.started": "2025-01-15T06:48:23.365968Z"
        },
        "id": "EjU6PAtGZPdP"
      },
      "source": [
        "## Deploy"
      ]
    },
    {
      "cell_type": "code",
      "execution_count": 88,
      "metadata": {
        "execution": {
          "iopub.execute_input": "2025-01-17T20:28:01.30457Z",
          "iopub.status.busy": "2025-01-17T20:28:01.304248Z",
          "iopub.status.idle": "2025-01-17T20:28:01.310039Z",
          "shell.execute_reply": "2025-01-17T20:28:01.308928Z",
          "shell.execute_reply.started": "2025-01-17T20:28:01.304545Z"
        },
        "id": "pS1xDP2YZPdP",
        "trusted": true
      },
      "outputs": [],
      "source": [
        "### Predict a single example\n",
        "def predict_single(x):\n",
        "    # lower the text\n",
        "    x = x.lower()\n",
        "    # Clean the text\n",
        "    x =  clean_text(x)\n",
        "    # Clean Contractions\n",
        "    x = fix_contractions(x)\n",
        "    # tokenize\n",
        "    x = tokenizer.texts_to_sequences([x])\n",
        "    # pad\n",
        "    x = pad_sequences(x, maxlen=maxlen)\n",
        "    # create dataset\n",
        "    x = torch.as_tensor(x, dtype=torch.long).cuda()\n",
        "\n",
        "    pred = model(x).detach()\n",
        "    pred = F.softmax(pred, dim=-1).cpu().numpy()\n",
        "\n",
        "    pred = pred.argmax(axis=1)\n",
        "\n",
        "    pred = le.classes_[pred]\n",
        "    return pred[0]\n",
        "\n",
        "\n",
        "\n"
      ]
    },
    {
      "cell_type": "code",
      "execution_count": 90,
      "metadata": {
        "colab": {
          "base_uri": "https://localhost:8080/"
        },
        "id": "WRAW5JP9wjj5",
        "outputId": "dde2fd53-864c-4602-de3d-7cbd47b638dd"
      },
      "outputs": [
        {
          "name": "stdout",
          "output_type": "stream",
          "text": [
            "Top Recommended Drugs for Acne:\n",
            "                        drugName  num_reviews  avg_rating\n",
            "57                  Isotretinoin          409    9.459658\n",
            "6   Adapalene / benzoyl peroxide          272    9.169118\n",
            "44                        Epiduo          259    9.173745\n",
            "2                       Accutane          253    9.561265\n",
            "39                   Doxycycline          231    9.095238\n"
          ]
        }
      ],
      "source": [
        "import pandas as pd\n",
        "\n",
        "def recommend_drugs(predicted_condition, df, top_n=5):\n",
        "    \"\"\"\n",
        "    Recommend top drugs for a predicted condition based on positive reviews.\n",
        "\n",
        "    Args:\n",
        "        predicted_condition (str): The predicted condition.\n",
        "        df (pd.DataFrame): The dataset containing drug reviews.\n",
        "        top_n (int): Number of top drugs to recommend.\n",
        "\n",
        "    Returns:\n",
        "        pd.DataFrame: Top N drugs with the most positive reviews and highest ratings.\n",
        "    \"\"\"\n",
        "    # Filter the dataset for the predicted condition\n",
        "    condition_df = df[df['condition'] == predicted_condition]\n",
        "\n",
        "    # Filter for positive reviews (e.g., rating >= 8)\n",
        "    positive_reviews_df = condition_df[condition_df['rating'] >= 8]\n",
        "\n",
        "    # Group by drug and calculate the number of positive reviews and average rating\n",
        "    drug_stats = positive_reviews_df.groupby('drugName').agg(\n",
        "        num_reviews=('rating', 'size'),  # Count the number of reviews\n",
        "        avg_rating=('rating', 'mean')    # Calculate the average rating\n",
        "    ).reset_index()\n",
        "\n",
        "    # Sort by number of reviews and average rating\n",
        "    drug_stats = drug_stats.sort_values(by=['num_reviews', 'avg_rating'], ascending=False)\n",
        "\n",
        "    # Return the top N drugs\n",
        "    return drug_stats.head(top_n)\n",
        "\n",
        "# Example usage\n",
        "# Load the dataset\n",
        "df = pd.read_csv('drugsComTrain_raw.csv')\n",
        "\n",
        "# Predict a condition (for example, \"Depression\")\n",
        "predicted_condition = \"Acne\"\n",
        "\n",
        "# Recommend top drugs for the predicted condition\n",
        "top_drugs = recommend_drugs(predicted_condition, df, top_n=5)\n",
        "print(f\"Top Recommended Drugs for {predicted_condition}:\")\n",
        "print(top_drugs)"
      ]
    },
    {
      "cell_type": "code",
      "execution_count": 91,
      "metadata": {
        "colab": {
          "base_uri": "https://localhost:8080/"
        },
        "execution": {
          "iopub.execute_input": "2025-01-17T20:28:04.496894Z",
          "iopub.status.busy": "2025-01-17T20:28:04.496589Z",
          "iopub.status.idle": "2025-01-17T20:28:04.502003Z",
          "shell.execute_reply": "2025-01-17T20:28:04.500783Z",
          "shell.execute_reply.started": "2025-01-17T20:28:04.496868Z"
        },
        "id": "WLJfS9ciZPdP",
        "outputId": "b092e5bd-6d88-4b9d-b7f4-198e01c17bec",
        "trusted": true
      },
      "outputs": [
        {
          "name": "stdout",
          "output_type": "stream",
          "text": [
            "\"Spring of 2008 I was hospitalized with pnuemonia and diagnosed with Lyme diease and full blown AIDS with CD4 count of &quot;11&quot; viral load some number so high in the millions I could never remember. I was taking Combivir and Kaletra with Dapsone for the 1st year then it stopped working. I started Kaletra with the Dapsone my CD4 count is now 209 and rising. For a few weeks I was very aggressive and broke all my dishes in the house LOL. I take vitamin supplements and drink a boost pluz every day. LIfe is good now!\"\n"
          ]
        }
      ],
      "source": [
        "x = data['review'].values[20]\n",
        "print(x)"
      ]
    },
    {
      "cell_type": "code",
      "execution_count": 92,
      "metadata": {
        "colab": {
          "base_uri": "https://localhost:8080/"
        },
        "execution": {
          "iopub.execute_input": "2025-01-17T20:28:06.301184Z",
          "iopub.status.busy": "2025-01-17T20:28:06.300855Z",
          "iopub.status.idle": "2025-01-17T20:28:06.31119Z",
          "shell.execute_reply": "2025-01-17T20:28:06.310167Z",
          "shell.execute_reply.started": "2025-01-17T20:28:06.301159Z"
        },
        "id": "UYMfqDRGZPdP",
        "outputId": "41e00051-9f57-466f-e307-60dd32138489",
        "trusted": true
      },
      "outputs": [
        {
          "name": "stdout",
          "output_type": "stream",
          "text": [
            "Top Recommended Drugs for ADHD:\n",
            "                           drugName  num_reviews  avg_rating\n",
            "27                 Lisdexamfetamine          280    9.150000\n",
            "46                          Vyvanse          271    9.210332\n",
            "5   Amphetamine / dextroamphetamine          265    9.192453\n",
            "32                  Methylphenidate          242    9.165289\n",
            "0                          Adderall          127    9.338583\n"
          ]
        }
      ],
      "source": [
        "\n",
        "predicted_condition = predict_single(x)\n",
        "\n",
        "# Recommend top drugs for the predicted condition\n",
        "top_drugs = recommend_drugs(predicted_condition, df, top_n=5)\n",
        "print(f\"Top Recommended Drugs for {predicted_condition}:\")\n",
        "print(top_drugs)"
      ]
    },
    {
      "cell_type": "code",
      "execution_count": 93,
      "metadata": {
        "colab": {
          "base_uri": "https://localhost:8080/",
          "height": 36
        },
        "execution": {
          "iopub.execute_input": "2025-01-17T20:28:08.430793Z",
          "iopub.status.busy": "2025-01-17T20:28:08.430504Z",
          "iopub.status.idle": "2025-01-17T20:28:08.436199Z",
          "shell.execute_reply": "2025-01-17T20:28:08.435279Z",
          "shell.execute_reply.started": "2025-01-17T20:28:08.430772Z"
        },
        "id": "tkgfrTA4ZPdQ",
        "outputId": "eefdb0f8-6023-429c-94a7-61d6e73298a3",
        "trusted": true
      },
      "outputs": [
        {
          "data": {
            "text/plain": [
              "'HIV Infection'"
            ]
          },
          "execution_count": 93,
          "metadata": {},
          "output_type": "execute_result"
        }
      ],
      "source": [
        "data.condition.values[20]"
      ]
    },
    {
      "cell_type": "code",
      "execution_count": 94,
      "metadata": {
        "colab": {
          "base_uri": "https://localhost:8080/"
        },
        "execution": {
          "iopub.execute_input": "2025-01-17T20:28:09.802099Z",
          "iopub.status.busy": "2025-01-17T20:28:09.801691Z",
          "iopub.status.idle": "2025-01-17T20:28:09.80676Z",
          "shell.execute_reply": "2025-01-17T20:28:09.805628Z",
          "shell.execute_reply.started": "2025-01-17T20:28:09.802067Z"
        },
        "id": "D4H1mEJEZPdQ",
        "outputId": "1f4d4947-0d29-479f-967c-f567e7d65612",
        "trusted": true
      },
      "outputs": [
        {
          "name": "stdout",
          "output_type": "stream",
          "text": [
            "\"My son is halfway through his fourth week of Intuniv. We became concerned when he began this last week, when he started taking the highest dose he will be on. For two days, he could hardly get out of bed, was very cranky, and slept for nearly 8 hours on a drive home from school vacation (very unusual for him.) I called his doctor on Monday morning and she said to stick it out a few days. See how he did at school, and with getting up in the morning. The last two days have been problem free. He is MUCH more agreeable than ever. He is less emotional (a good thing), less cranky. He is remembering all the things he should. Overall his behavior is better. \n",
            "We have tried many different medications and so far this is the most effective.\"\n"
          ]
        }
      ],
      "source": [
        "x = data['review'].values[1]\n",
        "print(x)"
      ]
    },
    {
      "cell_type": "code",
      "execution_count": 95,
      "metadata": {
        "colab": {
          "base_uri": "https://localhost:8080/"
        },
        "execution": {
          "iopub.execute_input": "2025-01-17T20:28:11.545845Z",
          "iopub.status.busy": "2025-01-17T20:28:11.5455Z",
          "iopub.status.idle": "2025-01-17T20:28:11.555847Z",
          "shell.execute_reply": "2025-01-17T20:28:11.55506Z",
          "shell.execute_reply.started": "2025-01-17T20:28:11.545818Z"
        },
        "id": "EQkYpYSnZPdQ",
        "outputId": "e4d51b15-c6b6-4f63-a77a-fa736a4bb3b1",
        "trusted": true
      },
      "outputs": [
        {
          "name": "stdout",
          "output_type": "stream",
          "text": [
            "Top Recommended Drugs for ADHD:\n",
            "                           drugName  num_reviews  avg_rating\n",
            "27                 Lisdexamfetamine          280    9.150000\n",
            "46                          Vyvanse          271    9.210332\n",
            "5   Amphetamine / dextroamphetamine          265    9.192453\n",
            "32                  Methylphenidate          242    9.165289\n",
            "0                          Adderall          127    9.338583\n"
          ]
        }
      ],
      "source": [
        "\n",
        "predicted_condition = predict_single(x)\n",
        "\n",
        "# Recommend top drugs for the predicted condition\n",
        "top_drugs = recommend_drugs(predicted_condition, df, top_n=5)\n",
        "print(f\"Top Recommended Drugs for {predicted_condition}:\")\n",
        "print(top_drugs)"
      ]
    },
    {
      "cell_type": "code",
      "execution_count": 96,
      "metadata": {
        "colab": {
          "base_uri": "https://localhost:8080/",
          "height": 36
        },
        "execution": {
          "iopub.execute_input": "2025-01-17T20:28:12.378515Z",
          "iopub.status.busy": "2025-01-17T20:28:12.378226Z",
          "iopub.status.idle": "2025-01-17T20:28:12.383886Z",
          "shell.execute_reply": "2025-01-17T20:28:12.383057Z",
          "shell.execute_reply.started": "2025-01-17T20:28:12.378492Z"
        },
        "id": "RsrmTaltZPdQ",
        "outputId": "be738127-418a-4fb8-d979-24f351769de6",
        "trusted": true
      },
      "outputs": [
        {
          "data": {
            "text/plain": [
              "'ADHD'"
            ]
          },
          "execution_count": 96,
          "metadata": {},
          "output_type": "execute_result"
        }
      ],
      "source": [
        "data.condition.values[1]"
      ]
    },
    {
      "cell_type": "code",
      "execution_count": 97,
      "metadata": {
        "colab": {
          "base_uri": "https://localhost:8080/"
        },
        "execution": {
          "iopub.execute_input": "2025-01-17T20:28:14.617772Z",
          "iopub.status.busy": "2025-01-17T20:28:14.61748Z",
          "iopub.status.idle": "2025-01-17T20:28:14.622712Z",
          "shell.execute_reply": "2025-01-17T20:28:14.62169Z",
          "shell.execute_reply.started": "2025-01-17T20:28:14.61775Z"
        },
        "id": "14i5020tZPdQ",
        "outputId": "05a7f724-400e-4d34-adca-42c933c4455b",
        "trusted": true
      },
      "outputs": [
        {
          "name": "stdout",
          "output_type": "stream",
          "text": [
            "\"Abilify changed my life. There is hope. I was on Zoloft and Clonidine when I first started Abilify at the age of 15.. Zoloft for depression and Clondine to manage my complete rage. My moods were out of control. I was depressed and hopeless one second and then mean, irrational, and full of rage the next. My Dr. prescribed me 2mg of Abilify and from that point on I feel like I have been cured though I know I&#039;m not.. Bi-polar disorder is a constant battle. I know Abilify works for me because I have tried to get off it and lost complete control over my emotions. Went back on it and I was golden again.  I am on 5mg 2x daily. I am now 21 and better than I have ever been in the past. Only side effect is I like to eat a lot.\"\n"
          ]
        }
      ],
      "source": [
        "x = data['review'].values[7]\n",
        "print(x)"
      ]
    },
    {
      "cell_type": "code",
      "execution_count": 98,
      "metadata": {
        "colab": {
          "base_uri": "https://localhost:8080/"
        },
        "execution": {
          "iopub.execute_input": "2025-01-17T20:28:16.845211Z",
          "iopub.status.busy": "2025-01-17T20:28:16.844841Z",
          "iopub.status.idle": "2025-01-17T20:28:16.855791Z",
          "shell.execute_reply": "2025-01-17T20:28:16.854757Z",
          "shell.execute_reply.started": "2025-01-17T20:28:16.845182Z"
        },
        "id": "aPYmOFr9ZPdQ",
        "outputId": "39f9e367-ad76-4902-bd90-8562b26b025d",
        "trusted": true
      },
      "outputs": [
        {
          "name": "stdout",
          "output_type": "stream",
          "text": [
            "Top Recommended Drugs for Bipolar Disorde:\n",
            "       drugName  num_reviews  avg_rating\n",
            "36  Lamotrigine          325    9.393846\n",
            "34     Lamictal          239    9.430962\n",
            "50   Quetiapine          184    9.152174\n",
            "42   Lurasidone          162    9.265432\n",
            "37       Latuda          156    9.237179\n"
          ]
        }
      ],
      "source": [
        "\n",
        "predicted_condition = predict_single(x)\n",
        "\n",
        "# Recommend top drugs for the predicted condition\n",
        "top_drugs = recommend_drugs(predicted_condition, df, top_n=5)\n",
        "print(f\"Top Recommended Drugs for {predicted_condition}:\")\n",
        "print(top_drugs)"
      ]
    },
    {
      "cell_type": "code",
      "execution_count": 99,
      "metadata": {
        "colab": {
          "base_uri": "https://localhost:8080/",
          "height": 36
        },
        "execution": {
          "iopub.execute_input": "2025-01-17T20:28:18.433363Z",
          "iopub.status.busy": "2025-01-17T20:28:18.433016Z",
          "iopub.status.idle": "2025-01-17T20:28:18.439537Z",
          "shell.execute_reply": "2025-01-17T20:28:18.438563Z",
          "shell.execute_reply.started": "2025-01-17T20:28:18.433334Z"
        },
        "id": "U06dY_iIZPdQ",
        "outputId": "3888def7-aaf5-43bb-b7c6-19c2e36a6272",
        "trusted": true
      },
      "outputs": [
        {
          "data": {
            "text/plain": [
              "'Bipolar Disorde'"
            ]
          },
          "execution_count": 99,
          "metadata": {},
          "output_type": "execute_result"
        }
      ],
      "source": [
        "data.condition.values[7]"
      ]
    },
    {
      "cell_type": "markdown",
      "metadata": {
        "id": "mkUal-XhZPdQ"
      },
      "source": [
        "# Our model is providing 89% validation accuracy on correctly able to identify the condition classes."
      ]
    },
    {
      "cell_type": "code",
      "execution_count": null,
      "metadata": {
        "execution": {
          "execution_failed": "2025-01-17T18:27:51.913Z"
        },
        "id": "yaj3UEv9ZPdQ",
        "trusted": true
      },
      "outputs": [],
      "source": [
        "# The End"
      ]
    },
    {
      "cell_type": "code",
      "execution_count": 100,
      "metadata": {
        "colab": {
          "base_uri": "https://localhost:8080/"
        },
        "execution": {
          "iopub.execute_input": "2025-01-17T20:45:34.72033Z",
          "iopub.status.busy": "2025-01-17T20:45:34.719847Z",
          "iopub.status.idle": "2025-01-17T20:45:34.74025Z",
          "shell.execute_reply": "2025-01-17T20:45:34.739258Z",
          "shell.execute_reply.started": "2025-01-17T20:45:34.720294Z"
        },
        "id": "Wt0bEfFNZPdQ",
        "outputId": "1b0acf5c-771f-4198-9829-003e894bdf03",
        "trusted": true
      },
      "outputs": [
        {
          "name": "stdout",
          "output_type": "stream",
          "text": [
            "Input: I have been taking birth control pills for a few months now, and they are working well for me.\n",
            "Predicted Condition: Birth Control\n",
            "\n",
            "Input: I feel extremely sad and hopeless, and I don't enjoy things I used to love.\n",
            "Predicted Condition: Depression\n",
            "\n",
            "Input: I have been experiencing severe back pain for the past week, and it's not getting better.\n",
            "Predicted Condition: Pain\n",
            "\n",
            "Input: I feel constantly worried and nervous, and it's affecting my daily life.\n",
            "Predicted Condition: Anxiety\n",
            "\n",
            "Input: I have been struggling with acne for years, and nothing seems to work.\n",
            "Predicted Condition: Acne\n",
            "\n",
            "Input: I have extreme mood swings, from feeling very happy to very depressed.\n",
            "Predicted Condition: Birth Control\n",
            "\n",
            "Input: I have trouble falling asleep and staying asleep at night.\n",
            "Predicted Condition: Insomnia\n",
            "\n",
            "Input: I have been trying to lose weight, but I'm not seeing any results.\n",
            "Predicted Condition: Weight Loss\n",
            "\n",
            "Input: I have been struggling with obesity for a long time, and it's affecting my health.\n",
            "Predicted Condition: Diabetes, Type 2\n",
            "\n",
            "Input: I have trouble focusing on tasks and often feel restless.\n",
            "Predicted Condition: ADHD\n",
            "\n",
            "Input: I have been diagnosed with type 2 diabetes, and I'm struggling to manage my blood sugar levels.\n",
            "Predicted Condition: Diabetes, Type 2\n",
            "\n",
            "Input: I took emergency contraception after unprotected sex, and I'm worried about the side effects.\n",
            "Predicted Condition: Emergency Contraception\n",
            "\n",
            "Input: I have been diagnosed with high blood pressure, and I'm trying to manage it with medication.\n",
            "Predicted Condition: High Blood Pressure\n",
            "\n",
            "Input: I have been experiencing itching and discomfort in my vaginal area, and I think it might be a yeast infection.\n",
            "Predicted Condition: Vaginal Yeast Infection\n",
            "\n"
          ]
        }
      ],
      "source": [
        "# Example inputs for the specified conditions\n",
        "texts = [\n",
        "    # Birth Control\n",
        "    \"I have been taking birth control pills for a few months now, and they are working well for me.\",\n",
        "    # Depression\n",
        "    \"I feel extremely sad and hopeless, and I don't enjoy things I used to love.\",\n",
        "    # Pain\n",
        "    \"I have been experiencing severe back pain for the past week, and it's not getting better.\",\n",
        "    # Anxiety\n",
        "    \"I feel constantly worried and nervous, and it's affecting my daily life.\",\n",
        "    # Acne\n",
        "    \"I have been struggling with acne for years, and nothing seems to work.\",\n",
        "    # Bipolar Disorde\n",
        "    \"I have extreme mood swings, from feeling very happy to very depressed.\",\n",
        "    # Insomnia\n",
        "    \"I have trouble falling asleep and staying asleep at night.\",\n",
        "    # Weight Loss\n",
        "    \"I have been trying to lose weight, but I'm not seeing any results.\",\n",
        "    # Obesity\n",
        "    \"I have been struggling with obesity for a long time, and it's affecting my health.\",\n",
        "    # ADHD\n",
        "    \"I have trouble focusing on tasks and often feel restless.\",\n",
        "    # Diabetes, Type 2\n",
        "    \"I have been diagnosed with type 2 diabetes, and I'm struggling to manage my blood sugar levels.\",\n",
        "    # Emergency Contraception\n",
        "    \"I took emergency contraception after unprotected sex, and I'm worried about the side effects.\",\n",
        "    # High Blood Pressure\n",
        "    \"I have been diagnosed with high blood pressure, and I'm trying to manage it with medication.\",\n",
        "    # Vaginal Yeast Infection\n",
        "    \"I have been experiencing itching and discomfort in my vaginal area, and I think it might be a yeast infection.\"\n",
        "]\n",
        "\n",
        "# Expected outputs\n",
        "for text in texts:\n",
        "    print(f\"Input: {text}\")\n",
        "    print(f\"Predicted Condition: {predict_single(text)}\")\n",
        "    print()"
      ]
    },
    {
      "cell_type": "code",
      "execution_count": 105,
      "metadata": {
        "colab": {
          "base_uri": "https://localhost:8080/"
        },
        "execution": {
          "iopub.execute_input": "2025-01-17T21:04:02.906877Z",
          "iopub.status.busy": "2025-01-17T21:04:02.90655Z",
          "iopub.status.idle": "2025-01-17T21:04:08.06153Z",
          "shell.execute_reply": "2025-01-17T21:04:08.06023Z",
          "shell.execute_reply.started": "2025-01-17T21:04:02.906852Z"
        },
        "id": "Wk0Jh__SZPdR",
        "outputId": "f5905108-407f-47f0-8de0-19d9fc2850fb",
        "trusted": true
      },
      "outputs": [
        {
          "name": "stderr",
          "output_type": "stream",
          "text": [
            "C:\\Users\\jayap\\AppData\\Local\\Temp\\ipykernel_15620\\2656788846.py:14: UserWarning: To copy construct from a tensor, it is recommended to use sourceTensor.clone().detach() or sourceTensor.clone().detach().requires_grad_(True), rather than torch.tensor(sourceTensor).\n",
            "  X_test_tensor = torch.tensor(X_test, dtype=torch.long)  # On CPU\n",
            "C:\\Users\\jayap\\AppData\\Local\\Temp\\ipykernel_15620\\2656788846.py:15: UserWarning: To copy construct from a tensor, it is recommended to use sourceTensor.clone().detach() or sourceTensor.clone().detach().requires_grad_(True), rather than torch.tensor(sourceTensor).\n",
            "  y_test_tensor = torch.tensor(y_test, dtype=torch.long)  # On CPU\n"
          ]
        },
        {
          "name": "stdout",
          "output_type": "stream",
          "text": [
            "✅ Model Accuracy: 88.68%\n",
            "\n",
            "📊 Classification Report:\n",
            "                         precision    recall  f1-score   support\n",
            "\n",
            "                   ADHD       0.90      0.88      0.89      1353\n",
            "                   Acne       0.98      0.90      0.94      2231\n",
            "                Anxiety       0.79      0.81      0.80      2344\n",
            "        Bipolar Disorde       0.83      0.75      0.79      1681\n",
            "          Birth Control       0.97      0.99      0.98     11531\n",
            "             Depression       0.77      0.84      0.81      3649\n",
            "       Diabetes, Type 2       0.86      0.89      0.87      1009\n",
            "Emergency Contraception       0.98      0.97      0.98       987\n",
            "    High Blood Pressure       0.90      0.83      0.86       931\n",
            "               Insomnia       0.86      0.87      0.86      1471\n",
            "                Obesity       0.67      0.53      0.59      1427\n",
            "                   Pain       0.93      0.92      0.93      2474\n",
            "Vaginal Yeast Infection       0.98      0.95      0.96       925\n",
            "            Weight Loss       0.62      0.72      0.67      1457\n",
            "\n",
            "               accuracy                           0.89     33470\n",
            "              macro avg       0.86      0.84      0.85     33470\n",
            "           weighted avg       0.89      0.89      0.89     33470\n",
            "\n"
          ]
        }
      ],
      "source": [
        "import torch\n",
        "import numpy as np\n",
        "from sklearn.metrics import accuracy_score, classification_report\n",
        "from torch.utils.data import DataLoader, TensorDataset\n",
        "\n",
        "# Ensure the model is in evaluation mode\n",
        "model.eval()\n",
        "\n",
        "# Move the model to the GPU\n",
        "device = torch.device('cuda' if torch.cuda.is_available() else 'cpu')\n",
        "model.to(device)\n",
        "\n",
        "# Convert test data to PyTorch tensors (KEEP on CPU for DataLoader)\n",
        "X_test_tensor = torch.tensor(X_test, dtype=torch.long)  # On CPU\n",
        "y_test_tensor = torch.tensor(y_test, dtype=torch.long)  # On CPU\n",
        "\n",
        "# Create DataLoader for the test data (NO pin_memory, CPU tensors)\n",
        "test_dataset = TensorDataset(X_test_tensor, y_test_tensor)\n",
        "test_loader = DataLoader(test_dataset, batch_size=32, shuffle=False, pin_memory=False)\n",
        "\n",
        "# Make predictions in batches with mixed precision\n",
        "y_pred_classes = []\n",
        "with torch.no_grad():\n",
        "    for inputs, _ in test_loader:\n",
        "        # Move batch to GPU inside the loop\n",
        "        inputs = inputs.to(device)\n",
        "\n",
        "        # Mixed precision inference\n",
        "        with torch.amp.autocast(device_type='cuda', dtype=torch.float16):  \n",
        "            outputs = model(inputs)\n",
        "        \n",
        "        _, preds = torch.max(outputs, dim=1)\n",
        "        \n",
        "        # Move predictions to CPU before converting to NumPy\n",
        "        y_pred_classes.extend(preds.cpu().numpy())\n",
        "\n",
        "# ✅ Ensure all predictions are on CPU and in NumPy format\n",
        "y_pred_classes = np.array(y_pred_classes)\n",
        "\n",
        "# ✅ Move `y_test` to CPU and convert it to NumPy before accuracy calculation\n",
        "y_test_cpu = y_test_tensor.cpu().numpy()\n",
        "\n",
        "# Calculate accuracy\n",
        "accuracy = accuracy_score(y_test_cpu, y_pred_classes)\n",
        "print(f\"✅ Model Accuracy: {accuracy * 100:.2f}%\")\n",
        "\n",
        "# Generate classification report\n",
        "print(\"\\n📊 Classification Report:\")\n",
        "print(classification_report(y_test_cpu, y_pred_classes, target_names=le.classes_))\n"
      ]
    },
    {
      "cell_type": "code",
      "execution_count": 107,
      "metadata": {
        "colab": {
          "base_uri": "https://localhost:8080/",
          "height": 805
        },
        "execution": {
          "iopub.execute_input": "2025-01-17T21:07:31.834067Z",
          "iopub.status.busy": "2025-01-17T21:07:31.833687Z",
          "iopub.status.idle": "2025-01-17T21:07:32.513113Z",
          "shell.execute_reply": "2025-01-17T21:07:32.512105Z",
          "shell.execute_reply.started": "2025-01-17T21:07:31.834036Z"
        },
        "id": "hehnEvYpZPdR",
        "outputId": "39bc0041-4e17-4466-b62f-e41ce649e84d",
        "trusted": true
      },
      "outputs": [
        {
          "data": {
            "image/png": "[encoded data removed]",
            "text/plain": [
              "<Figure size 1200x1000 with 2 Axes>"
            ]
          },
          "metadata": {},
          "output_type": "display_data"
        }
      ],
      "source": [
        "from sklearn.metrics import confusion_matrix\n",
        "import seaborn as sns\n",
        "import matplotlib.pyplot as plt\n",
        "\n",
        "# ✅ Move `y_test` to CPU and convert it to NumPy\n",
        "y_test_cpu = y_test_tensor.cpu().numpy()\n",
        "\n",
        "# ✅ Generate confusion matrix\n",
        "cm = confusion_matrix(y_test_cpu, y_pred_classes)\n",
        "\n",
        "# ✅ Plot the confusion matrix\n",
        "plt.figure(figsize=(12, 10))\n",
        "sns.heatmap(cm, annot=True, fmt='d', cmap='Blues', xticklabels=le.classes_, yticklabels=le.classes_)\n",
        "plt.xlabel('Predicted')\n",
        "plt.ylabel('Actual')\n",
        "plt.title('Confusion Matrix')\n",
        "plt.show()\n"
      ]
    }
  ],
  "metadata": {
    "accelerator": "GPU",
    "colab": {
      "gpuType": "T4",
      "include_colab_link": true,
      "provenance": []
    },
    "kaggle": {
      "accelerator": "nvidiaTeslaT4",
      "dataSources": [
        {
          "datasetId": 76158,
          "sourceId": 171475,
          "sourceType": "datasetVersion"
        },
        {
          "datasetId": 6419087,
          "sourceId": 10364081,
          "sourceType": "datasetVersion"
        },
        {
          "datasetId": 6501071,
          "sourceId": 10500030,
          "sourceType": "datasetVersion"
        }
      ],
      "isGpuEnabled": true,
      "isInternetEnabled": true,
      "language": "python",
      "sourceType": "notebook"
    },
    "kernelspec": {
      "display_name": "Python 3",
      "language": "python",
      "name": "python3"
    },
    "language_info": {
      "codemirror_mode": {
        "name": "ipython",
        "version": 3
      },
      "file_extension": ".py",
      "mimetype": "text/x-python",
      "name": "python",
      "nbconvert_exporter": "python",
      "pygments_lexer": "ipython3",
      "version": "3.12.0"
    }
  },
  "nbformat": 4,
  "nbformat_minor": 0
}
